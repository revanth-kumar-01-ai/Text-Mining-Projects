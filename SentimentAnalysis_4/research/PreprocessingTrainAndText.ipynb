{
 "cells": [
  {
   "cell_type": "code",
   "execution_count": null,
   "metadata": {},
   "outputs": [],
   "source": [
    "import pandas as pd "
   ]
  },
  {
   "cell_type": "code",
   "execution_count": 10,
   "metadata": {},
   "outputs": [],
   "source": [
    "df = pd.read_csv('../artifacts/cleanDataset.csv')"
   ]
  },
  {
   "cell_type": "code",
   "execution_count": null,
   "metadata": {},
   "outputs": [
    {
     "data": {
      "application/vnd.microsoft.datawrangler.viewer.v0+json": {
       "columns": [
        {
         "name": "index",
         "rawType": "int64",
         "type": "integer"
        },
        {
         "name": "review",
         "rawType": "object",
         "type": "string"
        },
        {
         "name": "sentiment",
         "rawType": "object",
         "type": "string"
        }
       ],
       "conversionMethod": "pd.DataFrame",
       "ref": "ac28c6a1-d0c4-4db4-858f-ba6afe79d400",
       "rows": [
        [
         "0",
         "starts nice intro build main characters minutes charm lost character mould main protagonist american pie loser supporting cast innovative storyline made pie movies commercial success let us honest headers acting pretty poor keaton daniels paris substantial plot script teeth movie plods pace clear logical storyline justifying length ending predictable predictable i have ticked spoilers box line advice avoid costs listen watch you will feel producers cheated hour half life",
         "negative"
        ],
        [
         "1",
         "terrific movie watch watch gena davis samuel jackson amazing movie great actors good story incredible action scenes long kiss goodnight give stars",
         "positive"
        ],
        [
         "2",
         "i have hundreds silent movies classics nosferatu metropolis general wings favourite film favourite fact looked id noticed immediately laughed movie gosh darn cute made marion davies proved movie great talent william randolph hearts mistress story involves hick georgia coming hollywood expectation instant star experiences interesting cameos stars era make real treat movie buffs",
         "positive"
        ],
        [
         "3",
         "film long found younger loved viewing loved love hate film bottom young comic strip find funny do not kind humour do not bother love film grown comedy programmes film simply placing comic genius big screen award winner means good wholesome slapstick film lacks quality series case films material laughing lot jokes pretty similar previous work humour childish taste film",
         "positive"
        ],
        [
         "4",
         "good engaging cinematic firefights great presentation vehicles fun drive fairly appealing multiplayer faithful movie list bad main missions bit short game defines good person shooter necessarily spy game great firefights carry story make complete single mission unlock genuine bonuses game offer hype game lived personally buy hook couple friends play loads fun sound game rip roaring achievement previous bond games firing weapon feels you are firing weapon ties aspect deadly ruthless spy game makes excited satisfied make multiplayer compete standards crafty james bond night fire game game cube",
         "positive"
        ]
       ],
       "shape": {
        "columns": 2,
        "rows": 5
       }
      },
      "text/html": [
       "<div>\n",
       "<style scoped>\n",
       "    .dataframe tbody tr th:only-of-type {\n",
       "        vertical-align: middle;\n",
       "    }\n",
       "\n",
       "    .dataframe tbody tr th {\n",
       "        vertical-align: top;\n",
       "    }\n",
       "\n",
       "    .dataframe thead th {\n",
       "        text-align: right;\n",
       "    }\n",
       "</style>\n",
       "<table border=\"1\" class=\"dataframe\">\n",
       "  <thead>\n",
       "    <tr style=\"text-align: right;\">\n",
       "      <th></th>\n",
       "      <th>review</th>\n",
       "      <th>sentiment</th>\n",
       "    </tr>\n",
       "  </thead>\n",
       "  <tbody>\n",
       "    <tr>\n",
       "      <th>0</th>\n",
       "      <td>starts nice intro build main characters minute...</td>\n",
       "      <td>negative</td>\n",
       "    </tr>\n",
       "    <tr>\n",
       "      <th>1</th>\n",
       "      <td>terrific movie watch watch gena davis samuel j...</td>\n",
       "      <td>positive</td>\n",
       "    </tr>\n",
       "    <tr>\n",
       "      <th>2</th>\n",
       "      <td>i have hundreds silent movies classics nosfera...</td>\n",
       "      <td>positive</td>\n",
       "    </tr>\n",
       "    <tr>\n",
       "      <th>3</th>\n",
       "      <td>film long found younger loved viewing loved lo...</td>\n",
       "      <td>positive</td>\n",
       "    </tr>\n",
       "    <tr>\n",
       "      <th>4</th>\n",
       "      <td>good engaging cinematic firefights great prese...</td>\n",
       "      <td>positive</td>\n",
       "    </tr>\n",
       "  </tbody>\n",
       "</table>\n",
       "</div>"
      ],
      "text/plain": [
       "                                              review sentiment\n",
       "0  starts nice intro build main characters minute...  negative\n",
       "1  terrific movie watch watch gena davis samuel j...  positive\n",
       "2  i have hundreds silent movies classics nosfera...  positive\n",
       "3  film long found younger loved viewing loved lo...  positive\n",
       "4  good engaging cinematic firefights great prese...  positive"
      ]
     },
     "execution_count": 11,
     "metadata": {},
     "output_type": "execute_result"
    }
   ],
   "source": [
    "df.head() "
   ]
  },
  {
   "cell_type": "code",
   "execution_count": 36,
   "metadata": {},
   "outputs": [],
   "source": [
    "# split the dataset fro train and test manual \n",
    "\n",
    "testData = df.sample(1000, random_state = 42)\n",
    "\n",
    "trainData = df.drop(testData.index)\n"
   ]
  },
  {
   "cell_type": "code",
   "execution_count": 37,
   "metadata": {},
   "outputs": [],
   "source": [
    "testData.to_csv('../artifacts/testData.csv', index=False)"
   ]
  },
  {
   "cell_type": "code",
   "execution_count": 38,
   "metadata": {},
   "outputs": [],
   "source": [
    "trainData.to_csv('../artifacts/train.csv', index=False)"
   ]
  },
  {
   "cell_type": "code",
   "execution_count": 39,
   "metadata": {},
   "outputs": [
    {
     "data": {
      "text/plain": [
       "(1000, 2)"
      ]
     },
     "execution_count": 39,
     "metadata": {},
     "output_type": "execute_result"
    }
   ],
   "source": [
    "testData.shape"
   ]
  },
  {
   "cell_type": "code",
   "execution_count": 40,
   "metadata": {},
   "outputs": [
    {
     "data": {
      "text/plain": [
       "(8988, 2)"
      ]
     },
     "execution_count": 40,
     "metadata": {},
     "output_type": "execute_result"
    }
   ],
   "source": [
    "trainData.shape"
   ]
  },
  {
   "cell_type": "code",
   "execution_count": null,
   "metadata": {},
   "outputs": [],
   "source": []
  },
  {
   "cell_type": "code",
   "execution_count": null,
   "metadata": {},
   "outputs": [],
   "source": []
  }
 ],
 "metadata": {
  "kernelspec": {
   "display_name": "AIenv",
   "language": "python",
   "name": "python3"
  },
  "language_info": {
   "codemirror_mode": {
    "name": "ipython",
    "version": 3
   },
   "file_extension": ".py",
   "mimetype": "text/x-python",
   "name": "python",
   "nbconvert_exporter": "python",
   "pygments_lexer": "ipython3",
   "version": "3.10.16"
  }
 },
 "nbformat": 4,
 "nbformat_minor": 2
}
