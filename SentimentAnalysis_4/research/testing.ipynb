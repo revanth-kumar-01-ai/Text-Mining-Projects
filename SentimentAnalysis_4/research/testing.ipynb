{
 "cells": [
  {
   "cell_type": "code",
   "execution_count": 1,
   "metadata": {},
   "outputs": [],
   "source": [
    "import re\n",
    "import string\n",
    "import joblib\n",
    "import contractions\n",
    "import pandas as pd\n",
    "from unidecode import unidecode\n",
    "\n",
    "# NLP & Spell Correction\n",
    "from symspellpy import SymSpell\n",
    "from sklearn.feature_extraction.text import CountVectorizer"
   ]
  },
  {
   "cell_type": "code",
   "execution_count": 2,
   "metadata": {},
   "outputs": [],
   "source": [
    "# spelling correct  assets \n",
    "\n",
    "sym_spell = SymSpell(max_dictionary_edit_distance=2, prefix_length=7)\n",
    "\n",
    "sym_spell.load_dictionary('../artifacts/frequency_dictionary_en_82_765.txt', term_index=0, count_index=1)\n",
    "\n",
    "def correct_spelling(text):\n",
    "    corrected = sym_spell.lookup_compound(text, max_edit_distance=2)\n",
    "    return corrected[0].term if corrected else text"
   ]
  },
  {
   "cell_type": "code",
   "execution_count": 3,
   "metadata": {},
   "outputs": [],
   "source": [
    "# stop words assets\n",
    "\n",
    "with open('../artifacts/stop.txt', 'r', encoding = 'utf-8') as file:\n",
    "    stopWords = file.readlines()\n",
    "\n",
    "stopWords = [word.replace('\\n', '') for word in stopWords]"
   ]
  },
  {
   "cell_type": "code",
   "execution_count": 4,
   "metadata": {},
   "outputs": [],
   "source": [
    "# normalize text assets\n",
    "\n",
    "def normalize_text(text):\n",
    "    text = contractions.fix(text) \n",
    "    text = re.sub(r'\\s+', ' ', text).strip() \n",
    "    text = unidecode(text)  \n",
    "    return text\n"
   ]
  },
  {
   "cell_type": "code",
   "execution_count": 5,
   "metadata": {},
   "outputs": [],
   "source": [
    "# load the count vectorizer assets\n",
    "def split_into_words(i):\n",
    "    return [word for word in i.split(\" \")]\n",
    "\n",
    "preprocessedBow = joblib.load('../model/preprocessedBow')"
   ]
  },
  {
   "cell_type": "code",
   "execution_count": 6,
   "metadata": {},
   "outputs": [],
   "source": [
    "# Data preprocessing \n",
    "\n",
    "def DataPreprocessing(textData):\n",
    "\n",
    "    # lower conversion\n",
    "    lowerConversion = textData.lower()\n",
    "\n",
    "    # Spelling correction\n",
    "    spellingCorrection = correct_spelling(lowerConversion)\n",
    "\n",
    "    #Punctual removal \n",
    "    punctual_removal = spellingCorrection.translate(str.maketrans('', '', string.punctuation+'\\n'))\n",
    "\n",
    "    # stop words removal\n",
    "    stopWordsRemoval = \" \".join([words for words in punctual_removal.split() if words not in stopWords])\n",
    "\n",
    "    # normalize text \n",
    "    normalizeText = normalize_text(stopWordsRemoval)\n",
    "\n",
    "    return normalizeText"
   ]
  },
  {
   "cell_type": "code",
   "execution_count": 18,
   "metadata": {},
   "outputs": [],
   "source": [
    "testData = \"\"\"\n",
    "   The movie was not bad at all.\n",
    "\"\"\"\n",
    "preprocessedText = DataPreprocessing(testData)"
   ]
  },
  {
   "cell_type": "code",
   "execution_count": 19,
   "metadata": {},
   "outputs": [
    {
     "data": {
      "text/plain": [
       "'movie bad'"
      ]
     },
     "execution_count": 19,
     "metadata": {},
     "output_type": "execute_result"
    }
   ],
   "source": [
    "preprocessedText"
   ]
  },
  {
   "cell_type": "code",
   "execution_count": 20,
   "metadata": {},
   "outputs": [],
   "source": [
    "TestData = preprocessedBow.transform([preprocessedText])"
   ]
  },
  {
   "cell_type": "code",
   "execution_count": 21,
   "metadata": {},
   "outputs": [
    {
     "name": "stdout",
     "output_type": "stream",
     "text": [
      "  (0, 2244)\t1\n",
      "  (0, 21430)\t1\n"
     ]
    }
   ],
   "source": [
    "print(TestData)"
   ]
  },
  {
   "cell_type": "markdown",
   "metadata": {},
   "source": [
    "# model "
   ]
  },
  {
   "cell_type": "code",
   "execution_count": 11,
   "metadata": {},
   "outputs": [],
   "source": [
    "model = joblib.load('../model/sentiment.joblib')"
   ]
  },
  {
   "cell_type": "code",
   "execution_count": 22,
   "metadata": {},
   "outputs": [
    {
     "data": {
      "text/plain": [
       "array(['negative'], dtype='<U8')"
      ]
     },
     "execution_count": 22,
     "metadata": {},
     "output_type": "execute_result"
    }
   ],
   "source": [
    "model.predict(TestData)"
   ]
  },
  {
   "cell_type": "code",
   "execution_count": null,
   "metadata": {},
   "outputs": [],
   "source": []
  }
 ],
 "metadata": {
  "kernelspec": {
   "display_name": "AIenv",
   "language": "python",
   "name": "python3"
  },
  "language_info": {
   "codemirror_mode": {
    "name": "ipython",
    "version": 3
   },
   "file_extension": ".py",
   "mimetype": "text/x-python",
   "name": "python",
   "nbconvert_exporter": "python",
   "pygments_lexer": "ipython3",
   "version": "3.10.16"
  }
 },
 "nbformat": 4,
 "nbformat_minor": 2
}
