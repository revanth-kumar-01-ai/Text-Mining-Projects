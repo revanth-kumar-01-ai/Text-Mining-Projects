{
 "cells": [
  {
   "cell_type": "code",
   "execution_count": null,
   "metadata": {},
   "outputs": [],
   "source": [
    "import pandas as pd\n",
    "import string \n",
    "\n",
    "\n",
    "from symspellpy import SymSpell"
   ]
  },
  {
   "cell_type": "code",
   "execution_count": 2,
   "metadata": {},
   "outputs": [],
   "source": [
    "df = pd.read_csv('../artifacts/sentiment_Dataset.csv')"
   ]
  },
  {
   "cell_type": "code",
   "execution_count": 3,
   "metadata": {},
   "outputs": [],
   "source": [
    "df1 = df.copy()"
   ]
  },
  {
   "cell_type": "code",
   "execution_count": 4,
   "metadata": {},
   "outputs": [
    {
     "data": {
      "application/vnd.microsoft.datawrangler.viewer.v0+json": {
       "columns": [
        {
         "name": "index",
         "rawType": "int64",
         "type": "integer"
        },
        {
         "name": "review",
         "rawType": "object",
         "type": "string"
        },
        {
         "name": "sentiment",
         "rawType": "object",
         "type": "string"
        }
       ],
       "conversionMethod": "pd.DataFrame",
       "ref": "82d987b2-f57e-4388-a155-bb481b845fc4",
       "rows": [
        [
         "0",
         "Starts really well, nice intro and build up for the main characters but after about 5 minutes, the charm is lost.<br /><br />The character is in the same mould as the main protagonist from American Pie and Loser without the supporting cast or innovative storyline that made the Pie movies more of a commercial success.<br /><br />Let's be honest - Heder's acting was pretty poor. Keaton, Daniels and Faris did their best but had no substantial plot or script to get their teeth into The movie just plods on without any pace or clear logical storyline justifying its length.<br /><br />The ending is about as predictable as they come - so predictable I've ticked the spoilers box for this one line.<br /><br />My advice: avoid at all costs unless you really really have nothing else to do/listen to or watch and even then you'll feel the producers just cheated you out of an hour and a half of your life.",
         "negative"
        ],
        [
         "1",
         "Terrific movie: If you did not watch yet, you must watch. Geena Davis and Samuel L. Jackson are amazing in this movie.<br /><br />Great actors + good story + incredible action scenes > \"The Long Kiss Goodnight\" <br /><br />I give it a 10, A+, 4 stars.",
         "positive"
        ],
        [
         "2",
         "I've seen hundreds of silent movies. Some will always be classics (such as Nosferatu, Metropolis, The General and Wings) but among them, my favorite is this film (it may not be the best--but a favorite, yes). In fact, when I looked it up on IMDb, I noticed I immediately laughed to myself because the movie was so gosh-darn cute and well-made. Marion Davies proved with this movie she really had great talent and was not JUST William Randolph Hearst's mistress.<br /><br />The story involves a hick from Georgia coming to Hollywood with every expectation that she would be an instant star! Her experiences and the interesting cameos of stars of the era make this a real treat for movie buffs and a must-see!",
         "positive"
        ],
        [
         "3",
         "i had been looking for this film for so long before i found it, i had seen it when i was younger and loved it, after my second viewing i still loved it and i still do.<br /><br />this is a love/hate film, if you like bottom, young ones, the comic strip, then you will find this funny. If you don't like that kind of humour then don't bother. I love this film and have grown up with these comedy programmes, for me this film is simply placing their comic genius on the big screen.. It is not an award winner by any means but if you just want good wholesome slapstick then this is it!<br /><br />the film lacks the quality of the TV series and this is usually the case with films but it still has enough material to keep you laughing even if a lot of the jokes are pretty similar to their previous work.<br /><br />yes, the humour is a little childish and not to everyone's taste but sometimes you just need that in a film.",
         "positive"
        ],
        [
         "4",
         "Good: Engaging cinematic firefights, great presentation, vehicles are actually fun to drive, fairly appealing multiplayer, faithful to the movie, and the list goes on.<br /><br />Bad: Main missions are a bit short.<br /><br />This game defines what a \"good\" third person shooter(not necessarily a spy-game) is. Great firefights carry on the story and make you want to complete EVERY single mission through, and unlock all the genuine bonuses the game has to offer. The hype this game had, was lived up to, and I personally think you should buy it, and hook up with a couple of friends and play this one. Loads of fun. <br /><br />The sound in this game, is a rip-roaring achievement from a few previous bond games, and firing a weapon, really feels like you're firing a weapon. It ties in with the aspect that you are a deadly and ruthless spy.<br /><br />All in all, this game makes you excited and satisfied after you make it through, and some multiplayer that can compete with the standards of the crafty James Bond \"Nightfire\" game for gamecube.",
         "positive"
        ],
        [
         "5",
         "I say this. If you want to see art, you go to an art gallery. If you want to see a movie, you go to a theater. Trying to intertwine art and film proves disastrous in \"Where the Heart Is\". An interesting cast is totally wasted in this embarrassment. You like Dabney Coleman, see \"Short Time\". You like Crispin Glover, see \"Bartleby\". You like Uma Thurman, see \"Kill Bill\". Above all, if you like Christopher Plummer, see \"The Silent Partner\", because his character here, is a terrible embarrassment. In fact this entire production is an embarrassment. Sure the human artwork is intriguing for a few minutes, so make a short, but do not subject an audience to pointless nonsense, masquerading as filmed entertainment. - MERK",
         "negative"
        ],
        [
         "6",
         "Hey, it's only TV. Sure, it's STAR TREK, the most beloved bla bla, and this is a great one, but it's all relative. What it boils down to is a guy in elf ears grooving with a swatch of pizza-colored shag rug.<br /><br />There's a kind of THIRD MAN noirishness to the tunnel hunt, and it's creepier than many episodes of what is after all one of the better TV shows. The suspense is actually suspenseful. The peril really feels perilous. As a little kid I think I cried when Spock told me that this hideous creature was as sad, scared and horrified as the people it was eating. This was one of my early lessons in empathy, a lesson reinforced by the EMPATH episode which was, if less thrilling, even more melancholy.<br /><br />What bothered me when I was five was that this thing, which looks like meat and tomato barf, somehow actually consists more or less of rock. Now that kind of choice might seem visionary, a hippie designer's idea of through-the-looking-glass one-universism, but it might also just smack of the drug era.",
         "positive"
        ],
        [
         "7",
         "this movie has lot of downsides and thats all i could see. it is painfully long and awfully directed. i could see whole audience getting impatient and waiting for it to end. run time is way over 3 hrs which could have been edited to less then 2 hrs.<br /><br />transition between stories is average. most people confessed being on seating expecting something better to come out.<br /><br />its funny only in pockets. ambitious project and a below par execution. govinda does a fair job, anil kapoor disappointed me, rest we as expected. if u r expecting anything close to babel or love actually then its no where close.",
         "negative"
        ],
        [
         "8",
         "How can you tell that a horror movie is terrible? when you can't stop laughing about it of course! The plot has been well covered by other reviewers, so I'll just add a few things on the hilarity of it all.<br /><br />Some reviews have placed the location in South America, others in Africa, I thought it was in some random island in the Pacific. Where exactly does this take place, seems to be a mystery. The cannibal tribe is conformed by a couple of black women some black men, and a man who looks like a young Frank Zappa banging the drums... the Devil God is a large black man with a terrible case of pink eyes.<br /><br />One of the \"freakiest\" moments in the film is when, \"Pablito\" find his partner hanging from a tree covered in what seems to be an orange substance that I assume is blood, starts screaming for minutes on and on (that's actually funny), and then the head of his partner falls in the ground and \"Pablito\" kicks it a bit for what I assume is \"shits n' giggles\" and the eyes actually move...<br /><br />But, of course, then the \"freak\" is gone when you realize the eyes moved because the movie is just bad...<br /><br />I hadn't laughed like this in a loooong while, and I definitely recommend this film for a Sunday afternoon with your friends and you have nothing to do... grab a case of beers and start watching this film, you'll love it! If you are looking for a real horror or gore movie, though... don't' bother.",
         "negative"
        ],
        [
         "9",
         "Brian De Palma's undeniable virtuosity can't really camouflage the fact that his plot here is a thinly disguised \"Psycho\" carbon copy, but he does provide a genuinely terrifying climax. His \"Blow Out\", made the next year, was an improvement.",
         "positive"
        ],
        [
         "10",
         "For Urban Cowboy John Travolta plays one of the stronger alpha males ever portrayed on the big screen. He's a decent enough young kid who leaves his parent's homestead and strikes out for the big city of Dallas where his uncle Barry Corbin has promised to find him work in the petrochemical industry. In 1980 that was beginning to boom and Texas was definitely a growing place in the USA.<br /><br />Travolta does a good job in making we the audience care about his character who when you come right down to it is a sexist pig. He meets and marries Debra Winger who's from the same background, but she's got some ideas that women should not be shadows of their men. And when she beats him at Gilley's mechanical bull, a man's game, that's it for him.<br /><br />Scott Glenn who's an ex-convict is working at Gilley's and this film was his breakout role. He's a real snake in Urban Cowboy, he gets Travolta's goat with a mere look and he moves in on Winger. Travolta in turn takes up with rich girl, Madolyn Smith Osborne who's slumming at Gilley's. <br /><br />Despite the characters, Urban Cowboy was really one gigantic commercial for the self-styled biggest honky tonk in the world. Gilley's is no longer there in the suburban Texas community of Pasadena, but the memories do live on. And the best thing about Urban Cowboy is the wonderful score of country/western songs that were featured in the film. I'm not sure if some of the songs were not written specifically for Urban Cowboy, but it's the only reason I can think of why the Motion Picture Academy ignored the musical aspects of this film. I especially liked Johnny Lee's Looking For Love, if it was specifically written for this film, it's a disgrace that it wasn't nominated for Best Song.<br /><br />I liked Debra Winger's character best in this film. She doesn't lose a trace of femininity, but she stands up to Travolta and does it in style. And this review is dedicated to that yet as unknown woman who will one day be the first woman bull-rider in the Professional Bull Riders.",
         "positive"
        ],
        [
         "11",
         "This movie was on t.v the other day, and I didn't enjoy it at all. The first George of the jungle was a good comedy, but the sequel.... completely awful. The new actor and actress to play the lead roles weren't good at all, they should of had the original actor (Brendon Fraiser) and original actress (i forgot her name) so this movie gets the 0 out of ten rating, not a film that you can sit down and watch and enjoy, this is a film that you turn to another channel or take it back to the shop if hired or bought. It was good to see Ape the ape back, but wasn't as fun as the first, they should of had the new George as Georges son grown up, and still had Bredon and (whats her face) in the film, that would've been a bit better then it was.",
         "negative"
        ],
        [
         "12",
         "There's something intriguing about disaster movies. The simple, primal premise can lead to several great stories. Granted, most disaster movies tend to explore familiar territory instead but I can usually live with that.<br /><br />Unfortunately, Flood probably marks the low point in the history of this sub-genre. Robert Carlyle is undoubtedly the star of the movie, even though screen time is split between different locations and characters. He gives a barely decent performance. As well, Joanne Whalley is very uneven. Veteran actor Tom Courtenay (he played in Doctor Zhivago for heaven's sake) is particularly bad. I mean, his timing is completely off most of the time and his characterization is extremely poor. What an embarrassing performance for that man. The rest of the cast ranges from decent to really bad with one exception: Jessalyn Gilsig, whom I thought might be there as a plot device/eye candy gives by far the most convincing performance. Doesn't mean much considering how bad everybody else is but still nice to see that she cared.<br /><br />The script is really bad, confusing and cliché. Some of the worse lines I have heard in quite some time are delivered by the actors one after the other.You've seen this story a thousand times. It employs every dramatic hook and tear-jerkers you've seen in \"Outbreak\", \"Armageddon\", the Poseidon movies (original and remake) and many others.<br /><br />The direction is awful. No sense of timing, nothing inspired. The shots are bland, dialog and action both fail to flow. Editing is bad but how do you edit such a mess? Without a doubt, this movie tried to rely way too much on (rather poor) CGI. The human factor, the drama and struggles of the characters are glossed over. Scenes where the characters must actually face the flood are rare and poorly done. The made-for-TV feel gives nausea. Some guy is supposed to go down a rope from an helicopter? No problem, let's show him inside a helicopter and make a really poor cut/editing job and have the next frame with him safely on the ground, in the most obvious way possible.<br /><br />The movie score is rather poor. All over the place, no timing.<br /><br />The ending is probably the worse I have seen in quite some time. Very much like they ran out of ideas. Scrap that, you can't run out of something if you never had it in the first place. Must have ran out of budget.<br /><br />This is a really amateur job. I give it a 2 for using London as a location, which is a nice change, for Gilsig being actually decent in a key support role and for the few CGI shots that were decent (those of the water closing in on London and the gates).<br /><br />Do yourself a favor and check out Day After Tomorrow or just about any disaster movie before this one. This includes older classics like The Towering Inferno.",
         "negative"
        ],
        [
         "13",
         "This film is a calculated attempt to cash in the success of Sex in the City and Four Weddings and a Funeral. In fact, if they'd called it Sex at a Funeral, they might have done better at the box office.<br /><br />But the film falls between two stools and can't get up. The characters spout improbably bright dialog, but never act in any way remotely recognizable as human. One arbitrary, senseless action follows another to advance what passes for a plot, and one soon tires of the falsity of the whole enterprise.<br /><br />Andie MacDowell gets points for acting her little heart out, but the performing honors are stolen by Imelda Staunton, as of all things, a police detective (don't they have a height requirement over there?). Ms. Staunton seems unable to make a false move. Would that we could say the same about the writer-director.<br /><br />If Notting Hill annoyed you as being bogus, stay away from this one. Phonus bolognus on the half-shell.",
         "negative"
        ],
        [
         "14",
         "Epic early film, directed by D.W. Griffith. Mae Marsh, her little sister, and their dogs are orphaned - they must go to live with an uncle. Aboard their coach is young couple Lillian Gish and Robert Harron, celebrating the birth of their first child. The coach arrives in Elderbush Gluch. Marsh's uncle tells her she can't keep the dogs, and they are put out. There are Indians (Native Americans) nearby; and, Indians love to eat dog meat (no kidding?). These Indians are hungry! Lionel Barrymore is sympathetic to Ms. Marsh, desiring to help her recover the runaway dogs. While rescuing the puppies, an Indian is shot - resulting in a \"Cowboys vs. Indians\" confrontation.<br /><br />This \"Saga of the American West\" is certainly an important film; however, the reliable Griffith performers begin to overplay their hands, and the story is too contrived. Many of the Griffith elements are in place - some good, and a few bad. \"The Battle at Elderbush Gluch\" foreshadows the later epic, \"Birth of a Nation\". <br /><br />******* The Battle at Elderbush Gulch (3/28/14) D.W. Griffith ~ Mae Marsh, Robert Harron, Lillian Gish",
         "positive"
        ],
        [
         "15",
         "A good cast is appallingly wasted in this slower than molasses and haphazardly connived comedy. Peter Ustinov tries hard here to bring something to life but the result is a dour bore that misses all the right beats that might have made it watchable. Regardless of the favorable comments here, this film is awful. Badly directed. Badly edited. Badly acted. Badly written. You need to sit through a hundred movies to come across one this bad.<br /><br />The muddled and excruciatingly laggard plot concerns Ustinov conning his way into an American insurance company in order to hack their computer and embezzle millions of pounds. How he does it is beyond lameness and credibility (he just learns his computer skills seemingly overnight by reading some pamphlets, and hoodwinks computer expert Robert Morley into going to South America and stealing his identity).<br /><br />As a side plot, Ustinov romances fellow loner Maggie Smith, who just happens to become his secretary by chance after he gets a flat in her building. She ends up sharing scenes that have sexual undertones with Bob Newhart that go nowhere, while Ustinov goes about grafting the money bit by bit and trying to keep one step ahead of Newhart and Karl Malden. Then he Marries Smith and they fly off to Brazil, which has become the staple finale of almost every British caper comedy since (Nuns on the Run? A Fish Called Wanda?)<br /><br />The surprise twist of an ending is more laughable than everything that came before. By the end I was thinking I must be truly off my rocker to stick out drivel like this. Even a cameo by Cesar Romero didn't help it. One of the most unfunny, poorly paced 'comedies' I've ever seen, and certainly the worst caper. Don't waste your time. If you love this you need to see better films.",
         "negative"
        ],
        [
         "16",
         "SPOILERS Every major regime uses the country's media to it's own ends. Whether the Nazi banning of certain leaflets, or the televised Chinese alternative of Tianamen Square, Governments have tried to influence the people through different mediums since the beginning of time. In 1925 though, celebrating the failed mutiny of 1905, the Russian Communist Government supported the creation of this film, Battleship Potempkin. A major piece of cinematic history, it remains powerful and beautiful to this very day.<br /><br />Set aboard the Battleship Potempkin, the crew are unhappy. In miserable living conditions and with maggot infested food, they are angry at their upper class suppressors. Now though, after the rotten food, enough is enough. Led by Grigory Vakulinchuk (Aleksandr Antonov), the crew turn upon their masters and fight for their freedom.<br /><br />As far as propaganda goes, \"Battleship Potempkin\" is perfect. Presenting a positive light on the first, unsuccessful, communist mutiny, the film was a useful Soviet tool. Eighty years after the films release though, and the USSR has disappeared completely off the map. The amazing thing about this film though is that whilst the country it's message was intended for has disappeared, the film remains a powerful and worthy piece of cinema.<br /><br />Written and directed by Sergei Eisenstein, the film is surprisingly a joy to watch. It is true, that it is far from what we would nowadays consider 'entertainment', but the film is a beautiful piece of art.<br /><br />Whether it be the scenes aboard the boat or the often talked about scene on the steps of Odessa, everything about this film is perfectly made. The music is powerful and dramatic, the lighting is flawless, even the acting, whilst slightly overdone, is perfect for the piece. Basically, there is no way to fault this film's end product.<br /><br />It's impossible to know how the Russian people received this film upon it's release. Praising a country which has not existed for fifteen years, it's difficult for us to know the full spirits that the film inspires. As a piece of art though, it is magnificent. Beautiful from start to finish, it is far from an easy watch, but it is well worth the effort.",
         "positive"
        ],
        [
         "17",
         "I have to admit when I went to see this movie, I didn't really have high expectations. But even with my low expectations I was totally and utterly disappointed...<br /><br />Basically Luke Wilson is a hot shot who tends to go out with slightly crazy girlfriends. There's slight mention of a girl stalking him but that's pretty much it for that character. Which i don't quite mind cause it would probably be just as underdeveloped as the rest of the movie.<br /><br />So while on a subway Rainn Wilson (who i actually liked before this movie) convinces him to talk to a \"hot\" girl, Uma Thurman. This is strange to say the least, as everyone can clearly see that Uma Thurman does not belong under the category of \"hot\".<br /><br />Rainn Wilson's performance is also far from \"hot\". Normally I'm all for his acting, but even he couldn't salvage this movie. His character was jumpy, unrealistic and rather annoying. You could never tell if the writers were trying to make him the comical token closet gay guy, or just desperate. It was almost painful.<br /><br />But anyway, someone steals her purse as she goes to leave the subway, and Luke Wilson being the charming savior he is runs after the robber. Now we all know that Uma Thurman is the superhero, or \"G-Girl\" as they like to call her in the movie. It still baffles me as to what the \"G\" stands for, but we'll leave that for the message boards to debate.<br /><br />The sex scenes I assume are supposed to be funny, but I find myself asking who has sex like that? They nearly throw the bed through the wall because of Uma Thurman's \"passion\" let's say. It makes my head hurt, but not in the \"I'm thinking really hard to understand this\" way.<br /><br />When Uma insults Anna Faris, calling her a \"whore\" I had no debate with that. Apart from the fact that she can't choose movies properly, she can't act and relies souly on the fact that she's blonde and typical.<br /><br />Overall I would've walked out of the theater if i hadn't paid $8.75 to see it. The characters are typical and have absolutely no chemistry, especially Uma Thurman. Someone should let her know that just because you move your head a lot doesn't mean you're acting.<br /><br />Also, the script and storyline could've used either a lot of work or a match and some lighter fluid. I actually started to feel embarrassed for the actors, and their dying careers. Overall, if you value your money, and your self respect do NOT waste your time with this pathetic attempt at a movie.",
         "negative"
        ],
        [
         "18",
         "The movie itself is not too bad; many comments have pointed out the obvious flaws of the script, but it is watchable. What really gives me the creeps though is that people like Justin Timberlake even get cast for movies, and on top of that for movies like this one. I have to admit I had never heard the man's name before watching this, but the very instant he appeared I was just plain annoyed. The voice is crap, the face is a bad rip-off of Legolas, the posture is horrible, and he cannot even properly coordinate all three of them. Said to say, I was delighted when he got jumped after leaving the disco, because I was hoping from then on it would be Morgan Freeman and Kevin Spacey only. Too bad I was wrong. These two and also LL Cool J give a very decent performance, and they are the main reason I give this a 4. <br /><br />I see many upcoming movies with the little Timberlake cast... and cannot believe it.",
         "negative"
        ],
        [
         "19",
         "It only took one viewing of this dog, for me to say \"Never again!\" It's so profoundly unmemorable that I had to read other people's reactions to it before I could remember anything beyond (1) it was awful, (2) Connery should have quit while he was ahead, and (3) the film included a total gross-out bit involving faking a retinal scan through the most gruesome (not to mention horribly inefficient) means possible.<br /><br />Actually, I've never understood why anybody would prefer even the best of Connery's Bond films over even the worst Moore or Dalton outings. Or Lazenby, Brosnan, or even David Niven, for that matter. I personally found Octopussy and Moonraker, among other \"canonical\" Bond films, to be far more entertaining than this, and probably for the very same reasons why others deprecate the Moore Bond films, namely their wry humor, and their willingness to surrender to the preposterousness of the whole basic Bond milieu.",
         "negative"
        ],
        [
         "20",
         "A very, very, very slow-moving, aimless movie about a distressed, drifting young man. Not sure who was more lost - the flat characters or the audience, nearly half of whom walked out. <br /><br />Attempting artiness with black & white and clever camera angles, the movie disappointed - became even more ridiculous - as the acting was poor and the plot and lines almost non-existent. Very little music or anything to speak of. The best scene in the movie was when Gerardo is trying to find a song that keeps running through his head. He goes to a used record store to buy it for his lover and has to sing the song for two sales clerks before they find the album. Cute scene gave promise, but it went downhill from there. The rest of the movie lacks art, charm, meaning... If it's about emptiness, it works I guess because it's empty. Wasted two hours.",
         "negative"
        ],
        [
         "21",
         "I saw this picture in 1940 for $.11 and I would like to secure a DVD in 2006 The film was the greatest adventure of the time and,like all epics,is still an entertainment marvel (B&W and all)You get a sense of real bonded friendship in the chemistry between the actors and the performances of Sam Jaffe & Eduardo Cianelli are outstanding (This could not be done today I particularly liked the ending where the colonel recites the end of Kipling's poem over the body of Gunga Din and tells the \"Untouchable\" \"You're a better man than I am Gunga Din\"They don't make movies of this character today.The only cast member that is still alive today is Joan Fontaine",
         "positive"
        ],
        [
         "22",
         "***Might not consider this having a spoiler, but I'd rather be cautious than careless*** I never saw this movie when I was little. I fell in love with it the first time I saw it with my three year old daughter. I can watch it over and over again.<br /><br />For the little acting Ilene Woods did in her lifetime, she was a wonderful voice for Cinderella; very appealing; very believable. The music really fit the movie perfectly. The acting was great; loved the mice!! You really \"hated\" Lady Tremain and the step-sisters; they were just awful. The cartoonists depicted the spoiled behavior very well.<br /><br />This is a wonderful movie, especially if you are into love stories. My daughter has seen the movie about 25 times and still gets excited at the end.",
         "positive"
        ],
        [
         "23",
         "I am being in no way facetious when I say that this movie was worse than any other movie ever made. Worse than \"Batman & Robin\". Worse than \"Manos, Hands of Fate\". Seriously, it's that bad. When people tell me that a movie is terrible I use the \"Two Girls\" scale to figure it out. If the movie is comparable to \"Two Girls\" then I won't watch it. If it's twice as good, maybe I'll watch it, but only to laugh at the retards who paid somebody to make it, because a movie twice as good as this one would still be a piece of garbage.",
         "negative"
        ],
        [
         "24",
         "This is from much of the same creative team behind \"Better Off Dead\", but is not quite as good as that amazing teen comedy. Its a lot of fun, but its all over the place and just not quite as funny. Curtis Armstrong is used to less effect (he was incredibly funny in \"Better off Dead\", Bobcat Goldthwaite is hilarious, Cusack is good, Demi Moore is Demi Moore (only with better hair here.) Overall its fun, and as a person from Cape Cod, it catches the feeling of an 80s Cape Cod summer very effectively. For some reason, this film feels more \"mainstream\" than \"Better off Dead\". There isn't quite as much left field absurdity going on here. Again, if you are a fan of John Cusack and Savage Steve Holland its definitely recommended.",
         "positive"
        ],
        [
         "25",
         "Wow, I was told this would be a B movie worth watching. I feel that I was misled after seeing this preview event. The plot is a twisted make of several films at best. Even the title is a take on another film if you can give the movie that much credit. I am sorry to say that I was taken to the cleaners. I wouldn't waste your time on this one. This movie appears to be a bunch of wannabes who got together and made a poor idea of a movie on a weekend with a borrowed camera. Being in the entertainment business, I can judge a decent film and this one deserves to be shelved or discarded. My advice, stick to a classic like the 1979 Dawn of the Dead. On a scale of 1 to 10 even a 1 is being nice to producers because this movie BLOWS. (Below Limit Of What Sucks) The producers need to stay with their daytime jobs. If you do view the movie please be honest in your posting, this one seems to have been hyped up and inflated by a few. There are a few who have seen this for what it is and posted correctly. Sorry, but, I have to say this is one to be skipped.",
         "negative"
        ],
        [
         "26",
         "George Sanders playing the Saint for the penultimate time does a good job out of a good script - with the usual good RKO cast around. It's a non-Charteris story too, bristling with murders and good clean fun.<br /><br />Thread 1: In New York, Police Inspector Fernack, Templar's friend is framed in a corruption scandal and disgraced - ST comes over from London to try to put things right. Nice and simple so far - but is there really more than $90,000 in the world? Thread 2: Another tale of a woman taking revenge on the people who murdered her brother, Wendy Barrie does well in bumping off some nasty men and having the Saint fall in love with her to boot. Including a baddie who was under their direct protection and in Fernack's cellar - there's a creepy shot of him (dead and staring) and them in a car when they're taking him back to where they'd got him. Paul Guilfoyle as Pearly Gates must have supposed to have been homosexual in this - witness the dressing gown at the beginning, and the later beguiling comment by ST that he was thinking of keeping him as a pet - and did too for \"Palm Springs\"! Fernack was played by Jonathan Hale as usual but this time with such a beaten deflated attitude that what he really needed was a good slapping from Templar to liven him up.<br /><br />The Hays Office also made sure you got the picture right, all threads are tied up with no straggly bits. Well worth watching for all of us who like this kind of thing, but if Val Kilmer's version is your yardstick then don't bother.",
         "positive"
        ],
        [
         "27",
         "I am so confused. What in the world was this movie about? What was the killer's motivation? He seemed quite angry, but I have yet to figure out why. Nothing in this movie made sense. It had zero depth. Or less than zero depth. Which I guess would make it a hill. Or a pile. Of crap. The acting was horrible. When I searched for a few of the actors in this movie, they had been in very few things that I had heard of, and that came as absolutely no surprise. I can't decide whether to feel sorry for them for the embarrassment of being in a movie this bad, or to feel that they should never be offered another acting job again. Starting . . . NOW! (Seinfeld reference.) Really, though, don't waste your time with this. There's so little substance that there's nothing there even just to make fun of. This was undoubtedly one of the worst slasher flicks -- NO, one of the worst flicks of ANY KIND, that I have ever had the misfortune to watch, and I've seen quite a few.",
         "negative"
        ],
        [
         "28",
         "A hint I think may be gathered by the various comments on this thread.<br /><br />I was quite amazed at the number of people who liked this film who want to make it \"mandatory\" or \"compulsory\".<br /><br />I think this gives us a little bit of insight into the reason this film and the issue underlying it is so polarizing.<br /><br />The Global Warming issue appeals a lot to people who want to force others to \"do right\". It appeals particularly to more \"liberal\" leaning people because it doesn't have to do with bedroom morality which is what usually gets conservatives who want to force you to \"be good\" going.<br /><br />And that's the problem with the film. Al Gore is a politician. And a very successful one at that. He just can't help himself from appealing to those people who want to force others to do as they would. The political appeal is just too great.<br /><br />And there we are left with a scientific issue that may be of huge importance, reduced to a political issue appealing to those in the body politic with a predilection to force other to \"do right\".<br /><br />Another interesting question is how did the Environmental movement get hijacked by such people?",
         "negative"
        ],
        [
         "29",
         "What was an exciting and fairly original series by Fox has degraded down to meandering tripe. During the first season, Dark Angel was on my weekly \"must see\" list, and not just because of Jessica Alba.<br /><br />Unfortunately, the powers-that-be over at Fox decided that they needed to \"fine-tune\" the plotline. Within 3 episodes of the season opener, they had totally lost me as a viewer (not even to see Jessica Alba!). I found the new characters that were added in the second season to be too ridiculous and amateurish. The new plotlines were stretching the continuity and credibility of the show too thin. On one of the second season episodes, they even had Max sleeping and dreaming - where the first season stated she biologically couldn't sleep.<br /><br />The moral of the story (the one that Hollywood never gets): If it works, don't screw with it!<br /><br />azjazz",
         "negative"
        ],
        [
         "30",
         "I swear if I did ever tried cocaine I'd be able to relate to this film perfectly. Its pace, as well as the dialog, churns out at speeds that some viewers might need to stop and relax their heads.<br /><br />There are great little elements that pop up through out the film, like how Rob Lowe's character seems to always be loosing a shoe, or how some characters keep running spirals around his zigzagged path. The story was put together extremely well and the direction seems flawless.<br /><br />The movie reeks of clumsy and cuteness. This is one I think most could enjoy. A few laugh-out-loud-even-if-you-are-alone moments ensure that I'll certainly be watching this again.",
         "positive"
        ],
        [
         "31",
         "i have lost count as to how many times i have watched this movie. i've never grown tired of it since this is a movie that can be enjoyed and interpreted on so many levels. they just don't make movies like this anymore.<br /><br />after recently finally watching the riveting documentary on the making of this film (Hearts of Darkness:a filmmakers journey into madness), i'm even more amazed that this film even got finished, yet alone turn out so great.<br /><br />the fact that they actually filmed this movie in the jungles of the Phillipines is the film's greatest asset. you actually FEEL like your in Vietnam.<br /><br />all of the actors are fantastic with my favorites still being Robert Duvall (\"I love the smell of napalm in the morning!!\") martin sheen, and the great Marlon Brando.<br /><br />a lot of people complain that the film gets too murky, weird and cerebral near the end. well, remeber what Coppolla said about this movie, \"This film is not about vietnam, it IS vietnam!\" what he means is that this film is about MADNESS and not the war.<br /><br />this movie is based on the short story \"Heart of darkness\" by Joseph Conrad and is set against the vietnam war instead of the civil war as in the book. i think that was a brilliant combination in my opinion.<br /><br />this is perfect, challenging film that is dark, violent, humorous at times and well done in every single possible way.<br /><br />a true classic<br /><br />rating:10",
         "positive"
        ],
        [
         "32",
         "This is definitely one of the better Mel Brooks movies, along with Spaceballs(although I will openly admit to not having watched many others, at least yet). It's very silly and thoroughly funny, there are hardly more than a few minutes throughout the entire two hour run-time, where you aren't entertained. Almost all of the gags have a great comical effect, few of them fall flat. I saw this movie right after seeing and reviewing Spy Hard, and comparing these two spoof movies, I realize exactly of how high quality this movie really is. It's funny from start to finish, none of the comedy is overdone or boring. The music is marvelous, as is the choreography of both dancing and fighting. The acting is pretty much what you would normally expect from this type of movie... Elwes is a great comedian, and makes a good Robin. The plot is typical Robin Hood, more or less everything from the legend is fit into this movie(and spoofed majorly). If you like Mel Brooks, or you're just a fan of silly humor, or you're just dying to watch a good parody of the legend of Robin Hood, this is definitely the film for you. The HBO First Look special on the film is also worth watching, and in that, you may want to keep watching throughout the credits, too. I'd recommend it to any fan of Mel Brooks movies, and to people who enjoy silly humor. 7/10",
         "positive"
        ],
        [
         "33",
         "Despite excellent trailers for Vanilla Sky, I was expecting to be disappointed by the film because I'd heard that it did not get great reviews. However, I left the cinema completely in awe of how good Vanilla Sky is.<br /><br />There was no bad acting at all in the whole film, every single character is believable. The romantic moments between Cruise's character, David Aames and Cruz's character, Sophia are tear-jerkingly realistic and intimate (probably due to the fact that they were a soon-to-be real-life couple).<br /><br />The plot of Vanilla Sky will confuse you in the last third of the film and there's very little chance of you guessing the ending. However, ends are tied up towards the end, leaving you with a strange mixture of feelings consisting of sadness, shock and empathy for David Aames.<br /><br />The film is intellectual and you have to pay attention throughout. This isn't that hard because chances are that you'll be completely drawn in to the film and won't take your eyes off the screen for one second.<br /><br />I usually leave cinemas forgetting all about the film I just watch. But Vanilla Sky is still lingering in my mind days after watching it. I recommend it to anyone who wants a change from simple, shallow films.",
         "positive"
        ],
        [
         "34",
         "Seriously disappointing performance by Brad Pitt and Q T, the plot is very superficial and lame, and, unless indirectly intended, this film actually glorify the Nazis and portrays them as men of honor, and show that the Jewish people are deceiving, cant keep promises and bloody vicious. ((THE FOLLOWING CONTAINS SPOILER)) Hitler together with the most notorious Nazis are attending a stupid plot less movie about the killing of 300 Italian soldiers in a small cinema theater in Paris is unbelievably ridiculous. the Nazis laughing and hooraying each killing in the movie as if watching a basketball game STUPID, the deal at the end is lame. whats really appalling is that the movie earned great reviews and is ranked here in the 40s amongst the greatest 250 films. will not be surprised if it harvested many awards, including Oscars, as well. the movie is simply a kissing ass to the Jewish people, but hey reconsider, its not even doing a great job doing that. it truly dwarfed the whole Nazi - Jews conflict and a pure insult to all who fought and suffered from the tyranny of the Nazis.",
         "negative"
        ],
        [
         "35",
         "I am a big fan of Stephen King's work, and this film has made me an even greater fan of King. Pet Sematary is about the Creed family. They have just moved into a new house, and they seem happy. But there is a pet cemetery behind their house. The Creed's new neighbor Jud (played by Fred Gwyne) explains the burial ground behind the pet cemetery. That burial ground is pure evil. Jud tells Louis Creed that when you bury a human being (or any kind of pet) up in the burial ground, they would come back to life. The only problem, is that when they come back, they are NOT the same person, they're evil. Soon after Jud explains everything about the Pet Sematary, everything starts to go to hell. I wont explain anymore because I don't want to give away some of the main parts in the film. The acting that Pet Sematary had was pretty good, but needed a little bit of work. The story was one of the main parts of this movie, mainly because it was so original and gripping. This film features lots of make-up effects that make the movie way more eerie, and frightening. One of the most basic reasons why this movie sent chills up my back, was in fact the make-up effects. There is one character in this film that is truly freaky. That character is \"Zelda.\" This particular character pops up in the film about three times to be precise. Zelda is Rachel Creed's sister who passed away years before, but Rachel is still haunted by her. The first time Zelda appears in the movie isn't generally scary because she isn't talking or anything, but the second time is the worst, and to be honest, the second time scares the living **** out of me. There is absolutely nothing wrong with this movie, it is almost perfect. Pet Sematary delivers great scares, some pretty good acting, first rate plot, and mesmerizing make-up. This is truly one of most favorite horror films of all time. 10 out of 10.",
         "positive"
        ],
        [
         "36",
         "Island of Death is not really a good movie, by any standard, but it is a curious one. Imagine if Natural Born Killers had been made 20 years too early, as a Greek Eurotrash porn film. That's what you get here - the quaint story of a young, sociopathic British couple cutting a deadly swath through the population of a lovely little Greek island.<br /><br />I'll spare you a detailed breakdown of the plot; it's not really important except to set up increasingly perverse or violent sex scenes followed by disturbingly brutal murders, often lovingly photographed for posterity by our charming young couple. It could have been brilliant, in its own sick and nasty way, but instead...<br /><br />Instead, I found myself impatiently checking the run time and chapter index to see how much longer the parade was going to last. Sluggish pacing and listless, bland acting turn even vilest perversities into pablum, and connecting scenes into an eternity of dull plodding. Ah, well. You can't win 'em all.",
         "negative"
        ],
        [
         "37",
         "It's a genuine shame that this spin-off TV series inspired by the superior made-for-TV pictures \"The Night Stalker\" and \"The Night Strangler\" only lasted a single season and twenty episodes, because at its best this program offered an often winning and highly entertaining blend of sharp cynical humor (Carl Kolchak's spirited verbal sparring matches with perpetually irascible and long-suffering editor Tony Vincenzo were always a treat to watch and hear), clever writing, nifty supernatural menaces (gotta love the offbeat and original creatures in \"The Spanish Moss Murders,\" \"The Sentry,\" and \"Horror in the Heights,\" plus you can't go wrong with such tried'n'true fright favorites as zombies, vampires, werewolves, and witches), colorful characters, lively acting from a raft of cool guest stars (legendary biker flick icon William Smith got a rare chance to tackle a heroic lead in \"The Energy Eater\" while other episodes featured great veteran character actors like Keenan Wynn, John Fiedler, John Dehner, Severn Darden, and William Daniels in juicy roles), effective moments of genuine suspense (the sewer-set climax of \"The Spanish Moss Murders\" in particular was truly harrowing), and, best of all, the one and only Darren McGavin in peak zesty form as the brash, aggressive, and excitable, but basically decent, brave, and honest small-time Chicago, Illinois newspaper reporter Carl Kolchak.<br /><br />Kolchak was the quintessential 70's everyman protagonist, a wily and quick-witted fellow with a strong nose for a tasty scoop and an unfortunate knack for getting into all kinds of trouble. Moreover, the occasionally bumbling Kolchak was anything but superhuman; he usually either tripped or stumbled while running away from a deadly threat, yet possessed a certain inner strength and courage that enabled him to save the human race time and time again from all kinds of lethal otherworldly foes. Kolchak was surrounded by a handful of enjoyable secondary characters: Simon Oakland was perfect as Carl's chronically ill-tempered boss Tony Vincenzo, Jack Grinnage as the prissy Ron Updyke made for an ideal comic foil, Ruth McDevitt was simply delightful as the sweet Miss Emily Cowles, and Carol Ann Susi was likewise a lot of fun as eager beaver rookie Monique Marmelstein (who alas disappeared after popping up in only three episodes). Granted, the show did suffer from lackluster make-up and special effects (the titular lycanthrope in \"The Werewolf\" unfortunately resembles a Yorkshire terrier!) and the latter episodes boasted a few laughably silly monsters (the headless motorcyclist in \"Chopper,\" Cathy Lee Crosby as Helen of Troy in \"The Youth Killer'), but even the second-rate shows are redeemed by the program's trademark wickedly sly sardonic wit and McGavin's boundless vitality and engagingly scrappy presence.",
         "positive"
        ],
        [
         "38",
         "I was very lucky to see this film as part of the Melbourne International Film Festival 2005 only a few days ago. I must admit that I am very partial to movies that focus on human relations and especially the ones which concentrate on the tragic side of life. I also love the majority of Scandinavian cinematic offerings, there is often a particular deep quality in the way the story unfolds and the characters are drawn. Character building in this film is extraordinary in its details and its depth. This is despite the fact that we do encounter quite a number of characters all with very particular personal situations and locations within their community. The audience at the end of the screening was very silent and pensive. I am still playing some of those scenes in my mind and I am still amazed at their power and meaningfulness.",
         "positive"
        ],
        [
         "39",
         "Great acting, great production values, good direction.<br /><br />But the script starts out with great pacing and interest in the first half and then falls apart in the second half. We're clear on character and motivation for the first half but then the second half leaves many questions unanswered.<br /><br />The conflicts raised are compelling but the follow-through is weak. For instance, we're very clear that Rudyard Kipling is pro-war but we don't know if that philosophical stance changes through the course of the film.<br /><br />This is the sort of picture that makes me want to look up the facts in history books. I don't feel I can rely on the film to get a clear idea.<br /><br />The depiction of the war itself is heart-breakingly accurate, though the women's lack of enthusiasm doesn't reflect the war hysteria that swept Britain at the time. Perhaps this is historically accurate; like so much in this film, I simply don't know.",
         "negative"
        ],
        [
         "40",
         "I saw the movie as a child when it was released in the theater and it was so bad that it became the makings of a family joke. If the ranking had a zero, this movie would get it. The dinosaurs were awful. The storyline was ridiculous. The acting really doesn't qualify to be called acting. The only reason I even remember the name of the movie so well is because my family still talks about how BAD it really was.",
         "negative"
        ],
        [
         "41",
         "In \"Hoot\", a new kid arrives to Florida from Montana. He first faces the usual problems of blending in and dealing with the local bully. Soon, though, he becomes aware of a bigger problem: a franchise restaurant chain is trying to build a site in the town, right where a number of burrowing owls live. This movie has the look of a family film, but it is pretty more radical than it seems, as it shows sympathetically how Roy and a couple of friends do not shy away from lawbreaking (including vandalism of private property and briefly kidnapping the manager of the chain of restaurants) in the name of environmentalism (to save owls, no less). Now, one might agree or not with those actions, but at least the movie has the courage from not shying away from its convictions. A good, solid film, all in all.",
         "positive"
        ],
        [
         "42",
         "Just watched this today on TCM, where the other reviewers here saw it.<br /><br />Sorry that I was the only one to find Davies a weak actress, with a truly awful attempt at an Irish (Irish-American or otherwise) accent. As she's the star, it was sort of hard for me to get past that -- especially as the other reviewers have said that this was her finest performance.<br /><br />Another particularly terrible Davies performance was in \"Marianne\" (1929), which I also watched today. In this film, given a 9 of 10 rating here, her accent switches from that of a (correct) French woman to an odd combination of Italian and Swiss.<br /><br />Interestingly, in TCM's one-hour bio of Davies -- \"Captured on Film: The True Story of Marion Davies\" (2001) -- film historian Jeanine Basinger claims that \"one of the things that you note about Marion Davies in her sound work is how good she is at doing accents.\" Of course this bio also includes commentary by fans (make of that what you will).<br /><br />Davies was a very attractive young woman, and by all accounts a terrific comedienne in real life.<br /><br />And because a part of her anatomy added immeasurably to the real-life answer to Joseph Cotten's character's search for the meaning behind Kane's final word in the opening scene of the great \"Citizen Kane,\" she's earned her spot among the great stories if Hollywood's history.<br /><br />But I think Welles & Mankiewicz got it right for the most part with the \"Susan Alexander\" facsimile of the real article.<br /><br />Don't bother voting as to whether you agree or disagree with this post as I really couldn't care less.",
         "negative"
        ],
        [
         "43",
         "Nicely done, and along with \"New voyages\" it's a great continuation! Fab to see James Cawley in the latest episode \"Vigil\" Check it out! <br /><br />I like the growing characterisation, and think we have good replacements for the TV actors in a fan-produced piece. This show manages to capture the feel quite well, as they state on the ste, it has improved over the years with experience and I hope with some more experience, a strong script editor, and a pick-up in timing and CGI that HF will becoming more remarkable than it already truly is!<br /><br />Good work to all concerned!<br /><br />(I have a HUGE soft spot for Lefler & McFarland (GREAT acting), although I'm a bit tired of \"Lefler's laws\". ENOUGH already! Shelby's great (if a little uptight) and it's cool she got the ship. Commodore Ian's nice (like Fred Flintstone), but lacks the gritty edge of a commanding officer and does seem too pleased with himself. The Doc, Counselor, and Rawlins are right on the money in my eyes, as is the WONDERFUL Nechayev (what a beautiful accent - a REAL Russian! (Well, I'm guessing Rene hails from the Czech Rep.)<br /><br />It gets my vote, and the CGI is kewl. Some of the greenscreen's obvious, but on a small budget whaddayagonndo?<br /><br />Really glad I found it!<br /><br />(OK, some of the acting isn't great but it's fan-made and is therefore allowed to be variable - sorry Cmm. Cole)<br /><br />The gay material is layed on too thick (Graham Norton'd be embarrassed). Trek doesn't pay that much attention to hetero couples so why signpost gays with all the snogging? It's not necessary to showpiece someone's sexuality to this extent - I hope they tone it down & let Aster & Zen be people not tokens - I don't treat my gay friends any differently, They're just regular guys.<br /><br />Musically it's a mixed bag. I can tell its all stock Trek OST stuff and works most of the time, but timing can fall flat now & then (the end of \"Worst Fears Part 2\" misses the crunch, and the edit. Love the fact they use the \"Galaxy Quest\" music!<br /><br />I certainly can't wait for more!! Dazza<br /><br />\"Never give up, never surender!\"<br /><br />Viva les frontieres",
         "positive"
        ],
        [
         "44",
         "I don't even know where to start. I did not like it. It did not behave like a story and so much was injected into the movie (the pot brownies, the son was gay (?) the murder was justified, what possible reason could there be in the script for Linda aka Penelope to exist) that was never explained. It was all fluid spilled on a table and left dripping off the counter until it all made a big mess on the floor.<br /><br />Why did Vanessa Redgrave make a five second cameo? Why did Diane Wiest use her Bullets over Broadway character without the camp-fun? Why was Jane Birkin in the storyline to begin with. The list is endless. The movie ended and we all looked at each other -- like -- did you understand any of this??<br /><br />I tell ya one thing, if I watched my long lost Dad get murdered I certainly wouldn't be hugging the murderer. Tell ya another thing, if \"Bob\" broke up with \"Bob\" what purpose did hiding the son in the closet have? Was Bob going to have sex with Bob in front of the son? How did the murderer contact the son so easily? <br /><br />If this review sounds confused, it is because this was a waste of film, talent and time. What the heck did the dead shrink have to do with anything!!<br /><br />Jezz, this is one of the worst films I have ever seen because it should have/could have been better, stronger and it should have made some kind of sense. Any sense. Instead we are given a watered down \"Diva\" (the film from the 70s complete with a murder) and tired performances reading boring words from a script that is completely insane.<br /><br />By pass it folks. Or maybe me and the rest of the people who reviewed this film are too stupid to understand it all -- I mean after all it is a french film.",
         "negative"
        ],
        [
         "45",
         "This is my first comment on IMDb website, and the reason I'm writing it is that we're talking about ONE OF THE BEST FILMS EVER! 'Ne goryuy!' will make you laugh and cry at the same time, you will fall in love (if you're not a fan yet!) with Georgian choir singing tradition, and possibly you will accept the hardships of your own existence and just feel good after watching it:) What I like a lot about this film is that actors in the non-leading roles create vivid and memorable characters and are just as interesting and important as the central character. The film is starring Vahtang Kikabidze (who is great), but you will remember every single face around him in the film. You will find yourself quoting their lines, that have become household names for so many Russian-speaking people. A film to live with. Simple, yet deep, you will want to watch it again and again.",
         "positive"
        ],
        [
         "46",
         "This is a film that every child should see before they grow and get distorted often passed down ideas from generation to generation of family. I grew up in two different places although only 20 miles apart. I went to school & had friends of every color creed & religion for the first 8 years of my life. Then I moved to hillbilly country (although not anymore) where it was very unusual to even have one African-American kid in your class. My graduating class in high school had 2 or 3 African-Amercians (god why can't I just say Black? You can call me a honky or whitey or whatever! all of this political correctness peeves me as it does most others!) Anyway back to the film give this a try to see what happens when people get a distorted view or just what ignorance or a lack of understanding does to a culture or a country! This is an excellent film everyone should see especially children.",
         "positive"
        ],
        [
         "47",
         "Ignore the bad reviews on here, this film is awesome! \"Just Before Dawn\" is a great example of what can be done in a film with a minimal budget if you have a dedicated crew, decent script, and a cool idea for a film. It's a hell of a lot of fun.<br /><br />I enjoyed it a lot more than most other 80's slashers because the killer is so unique. \"Wrong Turn\" ripped this movie off something fierce! There's plenty of blood and scares. My girlfriend was freaked out and she watches almost everything with me and doesn't flinch. It's got that creepiness to it.<br /><br />I'd say that \"Just Before Dawn\" is the best early 80's slasher out there. I really enjoyed it.<br /><br />8 out of 10, kids.",
         "positive"
        ],
        [
         "48",
         "\"Baby Face\" is a precode melodrama starring a very young Barbara Stanwyck, an almost unrecognizable George Brent, and Theresa Harris. It's about a girl who goes to the city to make good...or should I say make time. Stanwyck's father has been pimping her for one reason or another her whole life in dingy, depressed, filthy Erie, Pennsylvania. After her father dies, one older father type who knows what she's been through and truly cares about her future advises her to go to the big city and take advantage of opportunities there - and not the easy ones - and to take the high road in life. (Note that I saw the censored version and not the uncut - this part of the film was redone for the censors.) She and Chico (Harris) go to New York where Lily (nickname: Baby Face) decides the low road's a lot smoother and will get her where she wants to go a lot faster. In the movie's most famous scene, the camera moves us up the corporate ladder by taking us from floor to floor as Lily sleeps her way to the top. She finally corrals the big man himself and is able to quit her day job. Trouble follows, and she's soon involved in a huge scandal.<br /><br />Stanwyck wears lots of makeup and for most of the film is cool as a cucumber as she seduces one man after another with no regrets, and she's great at playing the innocent victim. In one scene, she sits staring at a king's ransom in jewels while wearing a black dress that looks like it's decorated with diamonds at the top. Then she asks Chico for another case, and that's filled with more jewelry, plus securities. All in a day's work.<br /><br />Theresa Harris was an interesting talent - she could be played down or glamorous, and was a talented singer and dancer as well. Here, she sings or hums the movie's theme, \"St. Louis Woman\" throughout. She worked in literally dozens of movies and is very good here as a friend of Stanwyck's, her best work being in the precode era. As a bizarre byproduct of the code, blacks were often given less to do in films after it was put in place.<br /><br />Precode films could be more sexually blatant and therefore, though they're 70+ years old, seem more modern. Even though these films didn't have to have moral endings, Baby Face learns her lessons - how like life it is after all. There were several endings of this film, all with the same message. The one I saw had an added scene, but apparently, there were two other endings that didn't pass the censors. (There wasn't a code but there were always censors.) At any rate, it's a neat surprise. \"Baby Face\" is an important film in movie history - a must see.",
         "positive"
        ],
        [
         "49",
         "Hooray for Korean cinema! Last year I saw \"Chungyang\" and \"Nowhere to hide\", now I catch up with Hur Jin-ho's directorial debut \"Christmas in august\". The variety of themes and level of achievement speak highly of a national cinema ripe for discovery. This film's major themes are death and love. The graceful and thoughtful way Jung Won(Han Suk-kyu) copes with his impending death, and the sublimation of his desires toward Darim(Shim Eun-Ha) out of true love for her. I was deeply moved by his careful management of behavior and emotions, shielding Darim from unnecessary pain without rejecting her.<br /><br />The success of this type of film is predicated on the skill of the actors. Han and Shim excel, being both quite expressive yet naturalistic. A number of secondary characters, Jung Won's relatives, friends, and clients, are quickly delineated to enrich the story without detracting from its main focus. To LIVE is to love, but all things must pass. Pain subsides. Life goes on.",
         "positive"
        ]
       ],
       "shape": {
        "columns": 2,
        "rows": 10000
       }
      },
      "text/html": [
       "<div>\n",
       "<style scoped>\n",
       "    .dataframe tbody tr th:only-of-type {\n",
       "        vertical-align: middle;\n",
       "    }\n",
       "\n",
       "    .dataframe tbody tr th {\n",
       "        vertical-align: top;\n",
       "    }\n",
       "\n",
       "    .dataframe thead th {\n",
       "        text-align: right;\n",
       "    }\n",
       "</style>\n",
       "<table border=\"1\" class=\"dataframe\">\n",
       "  <thead>\n",
       "    <tr style=\"text-align: right;\">\n",
       "      <th></th>\n",
       "      <th>review</th>\n",
       "      <th>sentiment</th>\n",
       "    </tr>\n",
       "  </thead>\n",
       "  <tbody>\n",
       "    <tr>\n",
       "      <th>0</th>\n",
       "      <td>Starts really well, nice intro and build up fo...</td>\n",
       "      <td>negative</td>\n",
       "    </tr>\n",
       "    <tr>\n",
       "      <th>1</th>\n",
       "      <td>Terrific movie: If you did not watch yet, you ...</td>\n",
       "      <td>positive</td>\n",
       "    </tr>\n",
       "    <tr>\n",
       "      <th>2</th>\n",
       "      <td>I've seen hundreds of silent movies. Some will...</td>\n",
       "      <td>positive</td>\n",
       "    </tr>\n",
       "    <tr>\n",
       "      <th>3</th>\n",
       "      <td>i had been looking for this film for so long b...</td>\n",
       "      <td>positive</td>\n",
       "    </tr>\n",
       "    <tr>\n",
       "      <th>4</th>\n",
       "      <td>Good: Engaging cinematic firefights, great pre...</td>\n",
       "      <td>positive</td>\n",
       "    </tr>\n",
       "    <tr>\n",
       "      <th>...</th>\n",
       "      <td>...</td>\n",
       "      <td>...</td>\n",
       "    </tr>\n",
       "    <tr>\n",
       "      <th>9995</th>\n",
       "      <td>I almost made a fool of myself when I was goin...</td>\n",
       "      <td>negative</td>\n",
       "    </tr>\n",
       "    <tr>\n",
       "      <th>9996</th>\n",
       "      <td>I feel it is my duty as a lover of horror film...</td>\n",
       "      <td>negative</td>\n",
       "    </tr>\n",
       "    <tr>\n",
       "      <th>9997</th>\n",
       "      <td>Why was this film made? What were the creators...</td>\n",
       "      <td>negative</td>\n",
       "    </tr>\n",
       "    <tr>\n",
       "      <th>9998</th>\n",
       "      <td>If it is true that sadomasochism is a two-side...</td>\n",
       "      <td>positive</td>\n",
       "    </tr>\n",
       "    <tr>\n",
       "      <th>9999</th>\n",
       "      <td>Now I did watch this when it first came out on...</td>\n",
       "      <td>negative</td>\n",
       "    </tr>\n",
       "  </tbody>\n",
       "</table>\n",
       "<p>10000 rows × 2 columns</p>\n",
       "</div>"
      ],
      "text/plain": [
       "                                                 review sentiment\n",
       "0     Starts really well, nice intro and build up fo...  negative\n",
       "1     Terrific movie: If you did not watch yet, you ...  positive\n",
       "2     I've seen hundreds of silent movies. Some will...  positive\n",
       "3     i had been looking for this film for so long b...  positive\n",
       "4     Good: Engaging cinematic firefights, great pre...  positive\n",
       "...                                                 ...       ...\n",
       "9995  I almost made a fool of myself when I was goin...  negative\n",
       "9996  I feel it is my duty as a lover of horror film...  negative\n",
       "9997  Why was this film made? What were the creators...  negative\n",
       "9998  If it is true that sadomasochism is a two-side...  positive\n",
       "9999  Now I did watch this when it first came out on...  negative\n",
       "\n",
       "[10000 rows x 2 columns]"
      ]
     },
     "execution_count": 4,
     "metadata": {},
     "output_type": "execute_result"
    }
   ],
   "source": [
    "df1"
   ]
  },
  {
   "cell_type": "markdown",
   "metadata": {},
   "source": [
    "# Handle the Duplicate values "
   ]
  },
  {
   "cell_type": "code",
   "execution_count": 5,
   "metadata": {},
   "outputs": [
    {
     "data": {
      "text/plain": [
       "12"
      ]
     },
     "execution_count": 5,
     "metadata": {},
     "output_type": "execute_result"
    }
   ],
   "source": [
    "df1.duplicated().sum()"
   ]
  },
  {
   "cell_type": "code",
   "execution_count": 6,
   "metadata": {},
   "outputs": [],
   "source": [
    "df1.drop_duplicates(inplace = True)"
   ]
  },
  {
   "cell_type": "code",
   "execution_count": 7,
   "metadata": {},
   "outputs": [
    {
     "data": {
      "text/plain": [
       "0"
      ]
     },
     "execution_count": 7,
     "metadata": {},
     "output_type": "execute_result"
    }
   ],
   "source": [
    "df1.duplicated().sum()"
   ]
  },
  {
   "cell_type": "markdown",
   "metadata": {},
   "source": [
    "# LowCase conversion "
   ]
  },
  {
   "cell_type": "code",
   "execution_count": 8,
   "metadata": {},
   "outputs": [],
   "source": [
    "df1['review'] = df1['review'].str.lower()"
   ]
  },
  {
   "cell_type": "code",
   "execution_count": 9,
   "metadata": {},
   "outputs": [
    {
     "data": {
      "application/vnd.microsoft.datawrangler.viewer.v0+json": {
       "columns": [
        {
         "name": "index",
         "rawType": "int64",
         "type": "integer"
        },
        {
         "name": "review",
         "rawType": "object",
         "type": "string"
        },
        {
         "name": "sentiment",
         "rawType": "object",
         "type": "string"
        }
       ],
       "conversionMethod": "pd.DataFrame",
       "ref": "bf2adc6f-bb61-4913-b4c7-6c920231f9d8",
       "rows": [
        [
         "0",
         "starts really well, nice intro and build up for the main characters but after about 5 minutes, the charm is lost.<br /><br />the character is in the same mould as the main protagonist from american pie and loser without the supporting cast or innovative storyline that made the pie movies more of a commercial success.<br /><br />let's be honest - heder's acting was pretty poor. keaton, daniels and faris did their best but had no substantial plot or script to get their teeth into the movie just plods on without any pace or clear logical storyline justifying its length.<br /><br />the ending is about as predictable as they come - so predictable i've ticked the spoilers box for this one line.<br /><br />my advice: avoid at all costs unless you really really have nothing else to do/listen to or watch and even then you'll feel the producers just cheated you out of an hour and a half of your life.",
         "negative"
        ],
        [
         "1",
         "terrific movie: if you did not watch yet, you must watch. geena davis and samuel l. jackson are amazing in this movie.<br /><br />great actors + good story + incredible action scenes > \"the long kiss goodnight\" <br /><br />i give it a 10, a+, 4 stars.",
         "positive"
        ],
        [
         "2",
         "i've seen hundreds of silent movies. some will always be classics (such as nosferatu, metropolis, the general and wings) but among them, my favorite is this film (it may not be the best--but a favorite, yes). in fact, when i looked it up on imdb, i noticed i immediately laughed to myself because the movie was so gosh-darn cute and well-made. marion davies proved with this movie she really had great talent and was not just william randolph hearst's mistress.<br /><br />the story involves a hick from georgia coming to hollywood with every expectation that she would be an instant star! her experiences and the interesting cameos of stars of the era make this a real treat for movie buffs and a must-see!",
         "positive"
        ],
        [
         "3",
         "i had been looking for this film for so long before i found it, i had seen it when i was younger and loved it, after my second viewing i still loved it and i still do.<br /><br />this is a love/hate film, if you like bottom, young ones, the comic strip, then you will find this funny. if you don't like that kind of humour then don't bother. i love this film and have grown up with these comedy programmes, for me this film is simply placing their comic genius on the big screen.. it is not an award winner by any means but if you just want good wholesome slapstick then this is it!<br /><br />the film lacks the quality of the tv series and this is usually the case with films but it still has enough material to keep you laughing even if a lot of the jokes are pretty similar to their previous work.<br /><br />yes, the humour is a little childish and not to everyone's taste but sometimes you just need that in a film.",
         "positive"
        ],
        [
         "4",
         "good: engaging cinematic firefights, great presentation, vehicles are actually fun to drive, fairly appealing multiplayer, faithful to the movie, and the list goes on.<br /><br />bad: main missions are a bit short.<br /><br />this game defines what a \"good\" third person shooter(not necessarily a spy-game) is. great firefights carry on the story and make you want to complete every single mission through, and unlock all the genuine bonuses the game has to offer. the hype this game had, was lived up to, and i personally think you should buy it, and hook up with a couple of friends and play this one. loads of fun. <br /><br />the sound in this game, is a rip-roaring achievement from a few previous bond games, and firing a weapon, really feels like you're firing a weapon. it ties in with the aspect that you are a deadly and ruthless spy.<br /><br />all in all, this game makes you excited and satisfied after you make it through, and some multiplayer that can compete with the standards of the crafty james bond \"nightfire\" game for gamecube.",
         "positive"
        ]
       ],
       "shape": {
        "columns": 2,
        "rows": 5
       }
      },
      "text/html": [
       "<div>\n",
       "<style scoped>\n",
       "    .dataframe tbody tr th:only-of-type {\n",
       "        vertical-align: middle;\n",
       "    }\n",
       "\n",
       "    .dataframe tbody tr th {\n",
       "        vertical-align: top;\n",
       "    }\n",
       "\n",
       "    .dataframe thead th {\n",
       "        text-align: right;\n",
       "    }\n",
       "</style>\n",
       "<table border=\"1\" class=\"dataframe\">\n",
       "  <thead>\n",
       "    <tr style=\"text-align: right;\">\n",
       "      <th></th>\n",
       "      <th>review</th>\n",
       "      <th>sentiment</th>\n",
       "    </tr>\n",
       "  </thead>\n",
       "  <tbody>\n",
       "    <tr>\n",
       "      <th>0</th>\n",
       "      <td>starts really well, nice intro and build up fo...</td>\n",
       "      <td>negative</td>\n",
       "    </tr>\n",
       "    <tr>\n",
       "      <th>1</th>\n",
       "      <td>terrific movie: if you did not watch yet, you ...</td>\n",
       "      <td>positive</td>\n",
       "    </tr>\n",
       "    <tr>\n",
       "      <th>2</th>\n",
       "      <td>i've seen hundreds of silent movies. some will...</td>\n",
       "      <td>positive</td>\n",
       "    </tr>\n",
       "    <tr>\n",
       "      <th>3</th>\n",
       "      <td>i had been looking for this film for so long b...</td>\n",
       "      <td>positive</td>\n",
       "    </tr>\n",
       "    <tr>\n",
       "      <th>4</th>\n",
       "      <td>good: engaging cinematic firefights, great pre...</td>\n",
       "      <td>positive</td>\n",
       "    </tr>\n",
       "  </tbody>\n",
       "</table>\n",
       "</div>"
      ],
      "text/plain": [
       "                                              review sentiment\n",
       "0  starts really well, nice intro and build up fo...  negative\n",
       "1  terrific movie: if you did not watch yet, you ...  positive\n",
       "2  i've seen hundreds of silent movies. some will...  positive\n",
       "3  i had been looking for this film for so long b...  positive\n",
       "4  good: engaging cinematic firefights, great pre...  positive"
      ]
     },
     "execution_count": 9,
     "metadata": {},
     "output_type": "execute_result"
    }
   ],
   "source": [
    "df1.head()"
   ]
  },
  {
   "cell_type": "markdown",
   "metadata": {},
   "source": [
    "# spelling check"
   ]
  },
  {
   "cell_type": "code",
   "execution_count": 25,
   "metadata": {},
   "outputs": [
    {
     "data": {
      "text/plain": [
       "True"
      ]
     },
     "execution_count": 25,
     "metadata": {},
     "output_type": "execute_result"
    }
   ],
   "source": [
    "sym_spell = SymSpell(max_dictionary_edit_distance=2, prefix_length=7)\n",
    "\n",
    "sym_spell.load_dictionary('../artifacts/frequency_dictionary_en_82_765.txt', term_index=0, count_index=1)"
   ]
  },
  {
   "cell_type": "code",
   "execution_count": 11,
   "metadata": {},
   "outputs": [],
   "source": [
    "def correct_spelling(text):\n",
    "    corrected = sym_spell.lookup_compound(text, max_edit_distance=2)\n",
    "    return corrected[0].term if corrected else text"
   ]
  },
  {
   "cell_type": "code",
   "execution_count": 12,
   "metadata": {},
   "outputs": [],
   "source": [
    "df1['review'] = df1['review'].apply(correct_spelling)"
   ]
  },
  {
   "cell_type": "code",
   "execution_count": 13,
   "metadata": {},
   "outputs": [
    {
     "data": {
      "application/vnd.microsoft.datawrangler.viewer.v0+json": {
       "columns": [
        {
         "name": "index",
         "rawType": "int64",
         "type": "integer"
        },
        {
         "name": "review",
         "rawType": "object",
         "type": "string"
        },
        {
         "name": "sentiment",
         "rawType": "object",
         "type": "string"
        }
       ],
       "conversionMethod": "pd.DataFrame",
       "ref": "917edfe7-f7e6-47f5-bc51-8f02399537f5",
       "rows": [
        [
         "0",
         "starts really well nice intro and build up for the main characters but after about a minutes the charm is lost by by the character is in the same mould as the main protagonist from american pie and loser without the supporting cast or innovative storyline that made the pie movies more of a commercial success by by let's be honest headers acting was pretty poor keaton daniels and paris did their best but had no substantial plot or script to get their teeth into the movie just plods on without any pace or clear logical storyline justifying its length by by the ending is about as predictable as they come so predictable i've ticked the spoilers box for this one line by by my advice avoid at all costs unless you really really have nothing else to do listen to or watch and even then you'll feel the producers just cheated you out of an hour and a half of your life",
         "negative"
        ],
        [
         "1",
         "terrific movie if you did not watch yet you must watch gena davis and samuel a jackson are amazing in this movie by by great actors good story incredible action scenes the long kiss goodnight by by i give it a of a a stars",
         "positive"
        ],
        [
         "2",
         "i've seen hundreds of silent movies some will always be classics such as nosferatu metropolis the general and wings but among them my favourite is this film it may not be the best but a favourite yes in fact when i looked it up on id i noticed i immediately laughed to myself because the movie was so gosh darn cute and well made marion davies proved with this movie she really had great talent and was not just william randolph hearts mistress by by the story involves a hick from georgia coming to hollywood with every expectation that she would be an instant star her experiences and the interesting cameos of stars of the era make this a real treat for movie buffs and a must see",
         "positive"
        ],
        [
         "3",
         "i had been looking for this film for so long before i found it i had seen it when i was younger and loved it after my second viewing i still loved it and i still do by by this is a love hate film if you like bottom young ones the comic strip then you will find this funny if you don't like that kind of humour then don't bother i love this film and have grown up with these comedy programmes for me this film is simply placing their comic genius on the big screen it is not an award winner by any means but if you just want good wholesome slapstick then this is it by by the film lacks the quality of the to series and this is usually the case with films but it still has enough material to keep you laughing even if a lot of the jokes are pretty similar to their previous work by by yes the humour is a little childish and not to everyone taste but sometimes you just need that in a film",
         "positive"
        ],
        [
         "4",
         "good engaging cinematic firefights great presentation vehicles are actually fun to drive fairly appealing multiplayer faithful to the movie and the list goes on by by bad main missions are a bit short by by this game defines what a good third person shooter not necessarily a spy game is great firefights carry on the story and make you want to complete every single mission through and unlock all the genuine bonuses the game has to offer the hype this game had was lived up to and i personally think you should buy it and hook up with a couple of friends and play this one loads of fun by by the sound in this game is a rip roaring achievement from a few previous bond games and firing a weapon really feels like you're firing a weapon it ties in with the aspect that you are a deadly and ruthless spy by by all in all this game makes you excited and satisfied after you make it through and some multiplayer that can compete with the standards of the crafty james bond night fire game for game cube",
         "positive"
        ]
       ],
       "shape": {
        "columns": 2,
        "rows": 5
       }
      },
      "text/html": [
       "<div>\n",
       "<style scoped>\n",
       "    .dataframe tbody tr th:only-of-type {\n",
       "        vertical-align: middle;\n",
       "    }\n",
       "\n",
       "    .dataframe tbody tr th {\n",
       "        vertical-align: top;\n",
       "    }\n",
       "\n",
       "    .dataframe thead th {\n",
       "        text-align: right;\n",
       "    }\n",
       "</style>\n",
       "<table border=\"1\" class=\"dataframe\">\n",
       "  <thead>\n",
       "    <tr style=\"text-align: right;\">\n",
       "      <th></th>\n",
       "      <th>review</th>\n",
       "      <th>sentiment</th>\n",
       "    </tr>\n",
       "  </thead>\n",
       "  <tbody>\n",
       "    <tr>\n",
       "      <th>0</th>\n",
       "      <td>starts really well nice intro and build up for...</td>\n",
       "      <td>negative</td>\n",
       "    </tr>\n",
       "    <tr>\n",
       "      <th>1</th>\n",
       "      <td>terrific movie if you did not watch yet you mu...</td>\n",
       "      <td>positive</td>\n",
       "    </tr>\n",
       "    <tr>\n",
       "      <th>2</th>\n",
       "      <td>i've seen hundreds of silent movies some will ...</td>\n",
       "      <td>positive</td>\n",
       "    </tr>\n",
       "    <tr>\n",
       "      <th>3</th>\n",
       "      <td>i had been looking for this film for so long b...</td>\n",
       "      <td>positive</td>\n",
       "    </tr>\n",
       "    <tr>\n",
       "      <th>4</th>\n",
       "      <td>good engaging cinematic firefights great prese...</td>\n",
       "      <td>positive</td>\n",
       "    </tr>\n",
       "  </tbody>\n",
       "</table>\n",
       "</div>"
      ],
      "text/plain": [
       "                                              review sentiment\n",
       "0  starts really well nice intro and build up for...  negative\n",
       "1  terrific movie if you did not watch yet you mu...  positive\n",
       "2  i've seen hundreds of silent movies some will ...  positive\n",
       "3  i had been looking for this film for so long b...  positive\n",
       "4  good engaging cinematic firefights great prese...  positive"
      ]
     },
     "execution_count": 13,
     "metadata": {},
     "output_type": "execute_result"
    }
   ],
   "source": [
    "df1.head()"
   ]
  },
  {
   "cell_type": "markdown",
   "metadata": {},
   "source": [
    "# punctual removal "
   ]
  },
  {
   "cell_type": "code",
   "execution_count": 14,
   "metadata": {},
   "outputs": [],
   "source": [
    "df1['review'] = df1['review'].str.translate(str.maketrans('', '', string.punctuation+'\\n'))"
   ]
  },
  {
   "cell_type": "markdown",
   "metadata": {},
   "source": [
    "# remove the stopWords"
   ]
  },
  {
   "cell_type": "code",
   "execution_count": 15,
   "metadata": {},
   "outputs": [],
   "source": [
    "with open('../artifacts/stop.txt', 'r', encoding = 'utf-8') as file:\n",
    "    stopWords = file.readlines()\n",
    "\n",
    "stopWords = [word.replace('\\n', '') for word in stopWords]\n",
    "\n",
    "df1['review'] = df1['review'].apply(lambda x: ' '.join([word for word in x.split() if word.lower() not in stopWords]))"
   ]
  },
  {
   "cell_type": "code",
   "execution_count": 16,
   "metadata": {},
   "outputs": [
    {
     "data": {
      "application/vnd.microsoft.datawrangler.viewer.v0+json": {
       "columns": [
        {
         "name": "index",
         "rawType": "int64",
         "type": "integer"
        },
        {
         "name": "review",
         "rawType": "object",
         "type": "string"
        },
        {
         "name": "sentiment",
         "rawType": "object",
         "type": "string"
        }
       ],
       "conversionMethod": "pd.DataFrame",
       "ref": "732b76e5-129f-4e2f-bfa9-a0bc2de552f6",
       "rows": [
        [
         "0",
         "starts nice intro build main characters minutes charm lost character mould main protagonist american pie loser supporting cast innovative storyline made pie movies commercial success lets honest headers acting pretty poor keaton daniels paris substantial plot script teeth movie plods pace clear logical storyline justifying length ending predictable predictable ive ticked spoilers box line advice avoid costs listen watch youll feel producers cheated hour half life",
         "negative"
        ],
        [
         "1",
         "terrific movie watch watch gena davis samuel jackson amazing movie great actors good story incredible action scenes long kiss goodnight give stars",
         "positive"
        ],
        [
         "2",
         "ive hundreds silent movies classics nosferatu metropolis general wings favourite film favourite fact looked id noticed immediately laughed movie gosh darn cute made marion davies proved movie great talent william randolph hearts mistress story involves hick georgia coming hollywood expectation instant star experiences interesting cameos stars era make real treat movie buffs",
         "positive"
        ],
        [
         "3",
         "film long found younger loved viewing loved love hate film bottom young comic strip find funny dont kind humour dont bother love film grown comedy programmes film simply placing comic genius big screen award winner means good wholesome slapstick film lacks quality series case films material laughing lot jokes pretty similar previous work humour childish taste film",
         "positive"
        ],
        [
         "4",
         "good engaging cinematic firefights great presentation vehicles fun drive fairly appealing multiplayer faithful movie list bad main missions bit short game defines good person shooter necessarily spy game great firefights carry story make complete single mission unlock genuine bonuses game offer hype game lived personally buy hook couple friends play loads fun sound game rip roaring achievement previous bond games firing weapon feels youre firing weapon ties aspect deadly ruthless spy game makes excited satisfied make multiplayer compete standards crafty james bond night fire game game cube",
         "positive"
        ],
        [
         "5",
         "art art gallery movie theatre intertwine art film proves disastrous heart interesting cast totally wasted embarrassment disney coleman short time crispin glover bartlett una thurman kill bill christopher plumper silent partner character terrible embarrassment fact entire production embarrassment human artwork intriguing minutes make short subject audience pointless nonsense masquerading filmed entertainment mark",
         "negative"
        ],
        [
         "6",
         "hey star trek beloved la la great relative boils guy elf ears grooving swatch pizza coloured shag rug kind man richness tunnel hunt creepier episodes shows suspense suspenseful peril feels perilous kid cried spock told hideous creature sad scared horrified people eating early lessons empathy lesson reinforced empathy episode thrilling melancholy bothered thing meat tomato barf consists rock kind choice visionary hippie designers idea glass university smack drug era",
         "positive"
        ],
        [
         "7",
         "movie lot downsides painfully long directed audience impatient waiting end run time hrs edited hrs transition stories average people confessed seating expecting funny pockets ambitious project par execution lorinda fair job anil poor disappointed rest expected expecting close babel love close",
         "negative"
        ],
        [
         "8",
         "horror movie terrible stop laughing plot covered reviewers ill add things hilarity reviews location south america africa thought random island pacific place mystery cannibal tribe conformed couple black women black men man young frank zappa banging drums devil god large black man terrible case pink eyes freakiest moments film pablo find partner hanging tree covered orange substance assume blood starts screaming minutes funny head partner falls ground pablo kicks bit assume shits giggles eyes move freak realize eyes moved movie bad hadnt laughed recommend film sunday afternoon friends grab case beers start watching film youll love real horror gore movie dont bother",
         "negative"
        ],
        [
         "9",
         "brian de palms undeniable virtuosity camouflage fact plot thinly disguised psycho carbon copy provide genuinely terrifying climax blow made year improvement",
         "positive"
        ],
        [
         "10",
         "urban cowboy john travolta plays stronger alpha males portrayed big screen hes decent young kid leaves parents homestead strikes big city dallas uncle barry corban promised find work petrochemical industry beginning boom texas growing place travolta good job making audience care character sexist pig meets marries debra winger whos background shes ideas women shadows men beats galleys mechanical bull mans game scott glenn whos sex convict working galleys film breakout role hes real snake urban cowboy travolta goat mere moves winger travolta turn takes rich girl madelyn smith osborne whos slumming galleys characters urban cowboy gigantic commercial styled biggest honky world galleys longer suburban texas community pasadena memories live thing urban cowboy wonderful score country western songs featured film im songs written specifically urban cowboy reason motion picture academy musical aspects film johnny leeds love specifically written film disgrace wasnt nominated song debra wingers character film doesnt lose trace femininity stands travolta style review dedicated unknown woman day woman bull rider professional bull riders",
         "positive"
        ],
        [
         "11",
         "movie day didnt enjoy george jungle good comedy sequel completely awful actor actress play lead roles werent good original actor brandon fraser original actress forgot movie ten rating film sit watch enjoy film turn channel back shop hired bought good ape ape back wasnt fun george georges son grown breton whats face film couldve bit",
         "negative"
        ],
        [
         "12",
         "intriguing disaster movies simple primal premise lead great stories granted disaster movies tend explore familiar territory live flood marks low point history genre robert carlyle undoubtedly star movie screen time split locations characters barely decent performance joanne halley uneven veteran actor tom courtesy played doctor zhivago heavens sake bad timing completely time characterization extremely poor embarrassing performance man rest cast ranges decent bad exception jess alan gil sig thought plot device eye candy convincing performance doesnt bad nice cared script bad confusing cliche worse lines heard time delivered actors youve story thousand times employs dramatic hook tearjerkers youve outbreak armageddon poseidon movies original remake direction awful sense timing inspired shots bland dialog action fail flow editing bad edit mess doubt movie rely poor chi human factor drama struggles characters glossed scenes characters face flood rare poorly made feel nausea guy supposed rope helicopter problem lets show inside helicopter make poor cut editing job frame safely ground obvious movie score poor place timing ending worse time ran ideas scrap run place ran budget amateur job give london location nice change gil sig decent key support role chi shots decent water closing london gates favor check day tomorrow disaster movie includes older classics towering inferno",
         "negative"
        ],
        [
         "13",
         "film calculated attempt cash success sex city weddings funeral fact theyd called sex funeral box office film falls stools characters spout improbably bright dialog act remotely recognizable human arbitrary senseless action advance passes plot tires falsity enterprise brandie mcdowell points acting heart performing honor stolen imelda stanton things police detective dont height requirement stanton unable make false move writer director hill annoyed bogus stay phones bol gnus half shell",
         "negative"
        ],
        [
         "14",
         "epic early film directed griffith mae marsh sister dogs orphaned live uncle aboard coach young couple lillian gish robert barron celebrating birth child coach arrives elder bush gulch marshes uncle tells dogs put indians native americans nearby indians love eat dog meat kidding indians hungry lionel barrymore sympathetic marsh desiring recover runaway dogs rescuing puppies indian shot resulting cowboys indians confrontation saga american west important film reliable griffith performers begin overplay hands story contrived griffith elements place good bad battle elder bush gulch foreshadows epic birth nation battle elder bush gulch griffith mae marsh robert barron lillian gish",
         "positive"
        ],
        [
         "15",
         "good cast appallingly wasted slower molasses haphazardly connived comedy peter ustinov hard bring life result dour bore misses beats made watchable favorable comments film awful badly directed badly edited badly acted badly written sit hundred movies bad muddled excruciatingly laggard plot concerns ustinov conning american insurance company order hack computer embezzle millions pounds lameness credibility learns computer skills seemingly overnight reading pamphlets hoodwink computer expert robert morley south america stealing identity side plot ustinov romances fellow loner maggie smith secretary chance flat building ends sharing scenes sexual undertones bob art ustinov grafting money bit bit step ahead art karl maiden marries smith fly brazil staple finale british caper comedy nuns run fish called wanda surprise twist ending laughable end thinking rocker stick drivel cameo cesar romero didnt unfunny poorly paced comedies ive worst caper dont waste time love films",
         "negative"
        ],
        [
         "16",
         "spoilers major regime country media ends nazi banning leaflets televised chinese alternative amen square governments influence people mediums beginning time celebrating failed mutiny russian communist government supported creation film battleship potemkin major piece cinematic history remains powerful beautiful day set aboard battleship potemkin crew unhappy miserable living conditions maggot infested food angry upper class suppressors rotten food led gregory inch ale sand ant nov crew turn masters fight freedom propaganda battleship potemkin perfect presenting positive light unsuccessful communist mutiny film soviet tool eighty years films release user disappeared completely map amazing thing film whilst country message intended disappeared film remains powerful worthy piece cinema written directed sergei eisenstein film surprisingly joy watch true nowadays entertainment film beautiful piece art scenes aboard boat talked scene steps odessa film perfectly made music powerful dramatic lighting flawless acting whilst slightly overdone perfect piece basically fault films end product impossible russian people received film release praising country existed fifteen years difficult full spirits film inspires piece art magnificent beautiful start finish easy watch worth effort",
         "positive"
        ],
        [
         "17",
         "admit movie didnt high expectations low expectations totally utterly disappointed basically luke wilson hot shot slightly crazy girlfriends slight mention girl stalking pretty character dont mind underdeveloped rest movie subway rain wilson movie convinces talk hot girl una thurman strange una thurman belong category hot rain wilson performance hot im acting couldnt salvage movie character jumpy unrealistic annoying writers make comical token closet gay guy desperate painful steals purse leave subway luke wilson charming savior runs robber una thurman superhero girl call movie baffles stands leave message boards debate sex scenes assume supposed funny find sex throw bed wall una thurman passion lets makes head hurt im thinking hard understand una insults anna paris calling whore debate fact choose movies properly act relies soul fact shes blonde typical couldve walked theatre hadnt paid characters typical absolutely chemistry una thurman move head lot doesnt youre acting script storyline couldve lot work match lighter fluid started feel embarrassed actors dying careers money respect waste time pathetic attempt movie",
         "negative"
        ],
        [
         "18",
         "movie bad comments pointed obvious flaws script watchable creeps people justin timber lake cast movies top movies admit heard mans watching instant appeared plain annoyed voice crap face bad rip leg las posture horrible properly coordinate delighted jumped leaving disco hoping morgan freeman kevin spacey bad wrong cool give decent performance main reason give upcoming movies timber lake cast",
         "negative"
        ],
        [
         "19",
         "viewing dog profoundly unmemorable read peoples reactions remember awful connery quit ahead film included total gross bit involving faking retinal scan gruesome mention horribly inefficient means ive understood prefer connery bond films worst moore dalton outings laze bros nan david matter personally found oct pussy moonraker canonical bond films entertaining reasons deprecate moore bond films wry humour willingness surrender preposterous ness basic bond milieu",
         "negative"
        ],
        [
         "20",
         "slow moving aimless movie distressed drifting young man lost flat characters audience half walked attempting art ness black white clever camera angles movie disappointed ridiculous acting poor plot lines existent music speak scene movie gerardo find song running head record store buy lover sing song sales clerks find album cute scene gave promise downhill rest movie lacks art charm meaning emptiness works guess empty wasted hours",
         "negative"
        ],
        [
         "21",
         "picture secure film greatest adventure time epics entertainment marvel sense real bonded friendship chemistry actors performances sam jaffa eduardo minnelli outstanding today ending colonel recites end killings poem body gun din tells untouchable youre man gun din dont make movies character today cast member alive today joan",
         "positive"
        ],
        [
         "22",
         "spoiler id cautious careless movie fell love time year daughter watch acting ilene woods lifetime wonderful voice cinderella appealing believable music fit movie perfectly acting great loved mice hated lady remain step sisters awful cartoonists depicted spoiled behavior wonderful movie love stories daughter movie times excited end",
         "positive"
        ],
        [
         "23",
         "facetious movie worse movie made worse batman robin worse manor hands fate bad people movie terrible girls scale figure movie comparable girls wont watch good ill watch laugh retards paid make movie good piece garbage",
         "negative"
        ],
        [
         "24",
         "creative team dead good amazing teen comedy lot fun place funny curtis armstrong effect incredibly funny dead bobcat gold waite hilarious crack good demo moore demo moore hair fun person cape cod catches feeling cape cod summer effectively reason film feels mainstream dead isnt left field absurdity fan john crack savage steve holland recommended",
         "positive"
        ],
        [
         "25",
         "wow told movie worth watching feel misled preview event plot twisted make films title film give movie credit cleaners wouldnt waste time movie appears bunch wannabes made poor idea movie weekend borrowed camera entertainment business judge decent film deserves shelved discarded advice stick classic dawn dead scale nice producers movie blows limit sucks producers stay daytime jobs view movie honest posting hyped inflated posted correctly skipped",
         "negative"
        ],
        [
         "26",
         "george sanders playing saint penultimate time good job good script usual good rio cast charters story bristling murders good clean fun thread york police inspector furnace templars friend framed corruption scandal disgraced st london put things nice simple world thread tale woman taking revenge people murdered brother wendy barrie bumping nasty men saint fall love boot including baddie direct protection racks cellar creepy shot dead staring car theyre taking back theyd paul guilty pearly gates supposed homosexual witness dressing gown beginning beguiling comment st thinking keeping pet palm springs furnace played jonathan hale usual time beaten deflated attitude needed good slapping templar liven hays office made picture threads tied straggly bits worth watching kind thing val killers version yardstick dont bother",
         "positive"
        ],
        [
         "27",
         "confused world movie killers motivation angry figure movie made sense depth depth guess make hill pile crap acting horrible searched actors movie things heard absolutely surprise decide feel embarrassment movie bad feel offered acting job starting seinfeld reference dont waste time substance make fun undoubtedly worst slasher flicks worst flicks kind misfortune watch ive",
         "negative"
        ],
        [
         "28",
         "hint gathered comments thread amazed number people film make mandatory compulsory bit insight reason film issue underlying polarizing global warming issue appeals lot people force appeals liberal leaning people doesnt bedroom morality conservatives force good brand problem film al gore politician successful appealing people force political appeal great brand left scientific issue huge importance reduced political issue appealing body politic predilection force interesting question environmental movement hijacked people",
         "negative"
        ],
        [
         "29",
         "exciting fairly original series fox degraded meandering tripe season dark angel weekly list jessica alba powers fox decided needed fine tune plot line episodes season opener totally lost viewer jessica alba found characters added season ridiculous amateurish plot lines stretching continuity credibility show thin season episodes max sleeping dreaming season stated biologically couldnt sleep moral story hollywood works dont screw jazz",
         "negative"
        ],
        [
         "30",
         "swear cocaine id relate film perfectly pace dialog churns speeds viewers stop relax heads great elements pop film rob lowers character loosing shoe characters running spirals zigzagged path story put extremely direction flawless movie reeks clumsy cuteness enjoy laugh loud moments ensure ill watching",
         "positive"
        ],
        [
         "31",
         "lost count times watched movie ive grown tired movie enjoyed interpreted levels dont make movies anymore recently finally watching riveting documentary making film hearts darkness filmmakers journey madness im amazed film finished turn great fact filmed movie jungles phillip ines films greatest asset feel vietnam actors fantastic favourites robert dual love smell napalm morning martin sheen great marlon brando lot people complain film murky weird cerebral end remember coppola movie film vietnam vietnam means film madness war movie based short story heart darkness joseph conrad set vietnam war civil war book brilliant combination opinion perfect challenging film dark violent humorous times single true classic rating",
         "positive"
        ],
        [
         "32",
         "mel brooks movies space balls openly admit watched silly funny minutes entire hour run time arent entertained gags great comical effect fall flat movie reviewing spy hard comparing spoof movies realize high quality movie funny start finish comedy overdone boring music marvellous choreography dancing fighting acting pretty expect type movie elves great comedian makes good robin plot typical robin hood legend fit movie spoofed majorly mel brooks youre fan silly humour youre dying watch good parody legend robin hood film hob special film worth watching watching credits id recommend fan mel brooks movies people enjoy silly humour",
         "positive"
        ],
        [
         "33",
         "excellent trailers vanilla sky expecting disappointed film id heard great reviews left cinema completely awe good vanilla sky bad acting film single character believable romantic moments cruises character david games cruz character sophia tear jer kingly realistic intimate due fact real life couple plot vanilla sky confuse film chance guessing ending ends tied end leaving strange mixture feelings consisting sadness shock empathy david games film intellectual pay attention isnt hard chances youll completely drawn film wont eyes screen leave cinemas forgetting film watch vanilla sky lingering mind days watching recommend change simple shallow films",
         "positive"
        ],
        [
         "34",
         "disappointing performance brad pitt plot superficial lame indirectly intended film glorify nazis portrays men honor show jewish people deceiving promises bloody vicious spoiler hitler notorious nazis attending stupid plot movie killing italian soldiers small cinema theatre paris unbelievably ridiculous nazis laughing hooray killing movie watching basketball game stupid deal end lame whats appalling movie earned great reviews ranked greatest films surprised harvested awards including oscars movie simply kissing ass jewish people hey reconsider great job dwarfed nazi jews conflict pure insult fought suffered tyranny nazis",
         "negative"
        ],
        [
         "35",
         "big fan stephen kings work film made greater fan king pet seminary creed family moved house happy pet cemetery house creeds neighbour jud played fred gwyn explains burial ground pet cemetery burial ground pure evil jud tells louis creed bury human kind pet burial ground back life problem back person theyre evil jud explains pet seminary starts hell wont explain anymore dont give main parts film acting pet seminary pretty good needed bit work story main parts movie original gripping film features lots make effects make movie eerie frightening basic reasons movie chills back fact make effects character film freaky character zelda character pops film times precise zelda rachel creeds sister passed years rachel haunted time zelda appears movie isnt generally scary isnt talking time worst honest time scares living absolutely wrong movie perfect pet seminary delivers great scares pretty good acting rate plot mesmerizing make favourite horror films time",
         "positive"
        ],
        [
         "36",
         "island death good movie standard curious imagine natural born killers made years early greek eur trash porn film quaint story young sociopathic british couple cutting deadly swath population lovely greek island ill spare detailed breakdown plot important set increasingly perverse violent sex scenes disturbingly brutal murders lovingly photographed posterity charming young couple brilliant sick nasty found impatiently checking run time chapter index longer parade sluggish pacing listless bland acting turn vilest verities pablum connecting scenes eternity dull plodding win pm",
         "negative"
        ],
        [
         "37",
         "genuine shame spin series inspired superior made pictures night stalker night strangler lasted single season twenty episodes program offered winning highly entertaining blend sharp cynical humour carl koch spirited verbal sparring matches perpetually irascible long suffering editor tony vincent treat watch hear clever writing nifty supernatural menaces gotta love offbeat original creatures spanish moss murders sentry horror heights wrong true fright favourites zombies vampires werewolves witches colourful characters lively acting raft cool guest stars legendary biker flick icon william smith rare chance tackle heroic lead energy eater episodes featured great veteran character actors keenan wynn john fiedler john dealer severn garden william daniels juicy roles effective moments genuine suspense sewer set climax spanish moss murders harrowing darren gavin peak zesty form brash aggressive excitable basically decent brave honest small time chicago illinois newspaper reporter carl chat chat quintessential hes everyman protagonist wily quick witted fellow strong nose tasty scoop unfortunate knack kinds trouble occasionally bumbling chat superhuman tripped stumbled running deadly threat possessed strength courage enabled save human race time time kinds lethal otherworldly foes chat surrounded handful enjoyable secondary characters simon oakland perfect carlos chronically ill tempered boss tony vincent jack grin page prissy ron updike made ideal comic foil ruth made simply delightful sweet miss emily coles carol ann sushi likewise lot fun eager beaver rookie monique mar epstein alas disappeared popping episodes granted show suffer lacklustre make special effects titular lycanthrope werewolf resembles yorkshire terrier episodes boasted laughably silly monsters headless motorcyclist chopper cathy lee crosby helen troy youth killer rate shows redeemed programs trademark wickedly sly sardonic wit savings boundless vitality engagingly scrappy presence",
         "positive"
        ],
        [
         "38",
         "lucky film part melbourne international film festival days ago admit partial movies focus human relations concentrate tragic side life love majority scandinavian cinematic offerings deep quality story unfolds characters drawn character building film extraordinary details depth fact encounter number characters personal situations locations community audience end screening silent pensive playing scenes mind amazed power meaningfulness",
         "positive"
        ],
        [
         "39",
         "great acting great production values good direction script starts great pacing interest half falls half clear character motivation half half leaves questions unanswered conflicts raised compelling follow weak instance clear rudyard kipling pro war dont philosophical stance film sort picture makes facts history books dont feel rely film clear idea depiction war heartbreakingly accurate women lack enthusiasm doesnt reflect war hysteria swept britain time historically accurate film simply dont",
         "negative"
        ],
        [
         "40",
         "movie child released theatre bad makings family joke ranking movie dinosaurs awful storyline ridiculous acting doesnt qualify called acting reason remember movie family talks bad",
         "negative"
        ],
        [
         "41",
         "hoot kid arrives florida montana faces usual problems blending dealing local bully aware bigger problem franchise restaurant chain build site town number burrowing owls live movie family film pretty radical shows sympathetically roy couple friends shy lawbreaking including vandalism private property briefly kidnapping manager chain restaurants environmentalism save owls agree actions movie courage shying convictions good solid film",
         "positive"
        ],
        [
         "42",
         "watched today tom reviewers find davies weak actress awful attempt irish irish american accent shes star sort hard past reviewers finest performance terrible davies performance marianne watched today film rating accent switches correct french woman odd combination italian swiss interestingly times hour bio davies captured film true story marion davies film historian jeanine basin ger claims things note marion davies sound work good accents bio includes commentary fans make davies attractive young woman accounts terrific comedienne real life brand part anatomy added immeasurably real life answer joseph contents characters search meaning kansas final word opening scene great citizen kane shes earned spot great stories hollywood history welles mankind ice part susan alexander facsimile real article dont bother voting agree disagree post couldnt care",
         "negative"
        ],
        [
         "43",
         "nicely voyages great continuation fab james cowley latest episode vigil check growing characterisation good replacements actors fan produced piece show manages capture feel state ste improved years experience hope experience strong script editor pick timing chi remarkable good work concerned huge soft spot seller mcfarland great acting im bit tired seller laws shelby great uptight cool ship commodore hands nice fred flintstones lacks gritty edge commanding officer pleased doc counselor rawlings money eyes wonderful chase beautiful accent real russian im guessing rene hails czech rep vote chi keel green screens obvious small budget whaddayagonndo glad found book acting isnt great fan made allowed variable cole gay material played thick graham norton embarrassed trek doesnt pay attention hetero couples signpost gays snogging showpiece someones sexuality extent hope tone aster zen people tokens dont treat gay friends differently theyre regular guys musically mixed bag stock trek stuff works time timing fall flat end worst fears part misses crunch edit love fact galaxy quest music wait tazza give surrender viva les frontiers",
         "positive"
        ],
        [
         "44",
         "dont start behave story injected movie pot brownies son gay murder justified reason script linda aka penelope exist explained fluid spilled table left dripping counter made big mess floor vanessa redgrave make cameo diane west bullets broadway character camp fun jane firkin storyline begin list endless movie ended looked understand thing watched long lost dad murdered wouldnt hugging murderer thing bob broke bob purpose hiding son closet bob sex bob front son murderer contact son easily review sounds confused waste film talent time heck dead shrink jazz worst films stronger made kind sense sense watered diva film complete murder tired performances reading boring words script completely insane pass folks rest people reviewed film stupid understand french film",
         "negative"
        ],
        [
         "45",
         "comment id website reason im writing talking films gory make laugh cry time fall love youre fan georgian choir singing tradition possibly accept hardships existence feel good watching lot film actors leading roles create vivid memorable characters interesting important central character film starring pahang abide great remember single face film find quoting lines household names russian speaking people film live simple deep watch",
         "positive"
        ],
        [
         "46",
         "film child grow distorted passed ideas generation generation family grew places miles school friends color creed religion years life moved hillbilly country anymore unusual african american kid class graduating class high school african americans god black call honky whitey political correctness peeves back film give people distorted view ignorance lack understanding culture country excellent film children",
         "positive"
        ],
        [
         "47",
         "ignore bad reviews film awesome dawn great film minimal budget dedicated crew decent script cool idea film hell lot fun enjoyed lot hes slashers killer unique wrong turn ripped movie fierce plenty blood scares girlfriend freaked watches doesnt flinch creepiness id dawn early hes slasher enjoyed kids",
         "positive"
        ],
        [
         "48",
         "baby face precede melodrama starring young barbara stan wick unrecognizable george brent theresa harris girl city make good make time stay cars father pimping reason life dingy depressed filthy erie pennsylvania father dies older father type shes cares future advises big city advantage opportunities easy high road life note censored version uncut part film redone censors chico harris york lily nickname baby face decides low roads lot smoother lot faster movies famous scene camera moves corporate ladder taking floor floor lily sleeps top finally corrals big man quit day job trouble shes involved huge scandal stan wick wears lots makeup film cool cucumber seduces man regrets shes great playing innocent victim scene sits staring kings ransom jewels wearing black dress decorated diamonds top asks chico case filled jewellery securities days work theresa harris interesting talent played glamorous talented singer dancer sings hums movies theme st louis woman worked literally dozens movies good friend stay cars work precede era bizarre byproduct code blacks films put place precede films sexually blatant theyre years modern films didnt moral endings baby face learns lessons life endings film message added scene apparently endings didnt pass censors wasnt code censors rate neat surprise baby face important film movie history",
         "positive"
        ],
        [
         "49",
         "hooray korean cinema year chung yang hide catch hons directorial debut christmas august variety themes level achievement speak highly national cinema ripe discovery films major themes death love graceful thoughtful jung won han sun kyd copes impending death sublimation desires darin shim sun true love deeply moved careful management behavior emotions shielding darin unnecessary pain rejecting success type film predicated skill actors han shim excel expressive naturalistic number secondary characters jung wont relatives friends clients quickly delineated enrich story detracting main focus live love things pass pain subsides life",
         "positive"
        ]
       ],
       "shape": {
        "columns": 2,
        "rows": 9988
       }
      },
      "text/html": [
       "<div>\n",
       "<style scoped>\n",
       "    .dataframe tbody tr th:only-of-type {\n",
       "        vertical-align: middle;\n",
       "    }\n",
       "\n",
       "    .dataframe tbody tr th {\n",
       "        vertical-align: top;\n",
       "    }\n",
       "\n",
       "    .dataframe thead th {\n",
       "        text-align: right;\n",
       "    }\n",
       "</style>\n",
       "<table border=\"1\" class=\"dataframe\">\n",
       "  <thead>\n",
       "    <tr style=\"text-align: right;\">\n",
       "      <th></th>\n",
       "      <th>review</th>\n",
       "      <th>sentiment</th>\n",
       "    </tr>\n",
       "  </thead>\n",
       "  <tbody>\n",
       "    <tr>\n",
       "      <th>0</th>\n",
       "      <td>starts nice intro build main characters minute...</td>\n",
       "      <td>negative</td>\n",
       "    </tr>\n",
       "    <tr>\n",
       "      <th>1</th>\n",
       "      <td>terrific movie watch watch gena davis samuel j...</td>\n",
       "      <td>positive</td>\n",
       "    </tr>\n",
       "    <tr>\n",
       "      <th>2</th>\n",
       "      <td>ive hundreds silent movies classics nosferatu ...</td>\n",
       "      <td>positive</td>\n",
       "    </tr>\n",
       "    <tr>\n",
       "      <th>3</th>\n",
       "      <td>film long found younger loved viewing loved lo...</td>\n",
       "      <td>positive</td>\n",
       "    </tr>\n",
       "    <tr>\n",
       "      <th>4</th>\n",
       "      <td>good engaging cinematic firefights great prese...</td>\n",
       "      <td>positive</td>\n",
       "    </tr>\n",
       "    <tr>\n",
       "      <th>...</th>\n",
       "      <td>...</td>\n",
       "      <td>...</td>\n",
       "    </tr>\n",
       "    <tr>\n",
       "      <th>9995</th>\n",
       "      <td>made fool start review movie reminded billy el...</td>\n",
       "      <td>negative</td>\n",
       "    </tr>\n",
       "    <tr>\n",
       "      <th>9996</th>\n",
       "      <td>feel duty lover horror films warm people horri...</td>\n",
       "      <td>negative</td>\n",
       "    </tr>\n",
       "    <tr>\n",
       "      <th>9997</th>\n",
       "      <td>film made creators thinking hmm film plot made...</td>\n",
       "      <td>negative</td>\n",
       "    </tr>\n",
       "    <tr>\n",
       "      <th>9998</th>\n",
       "      <td>true sadomasochism sided coin diverse expressi...</td>\n",
       "      <td>positive</td>\n",
       "    </tr>\n",
       "    <tr>\n",
       "      <th>9999</th>\n",
       "      <td>watch vhf friends thought pretty good movie te...</td>\n",
       "      <td>negative</td>\n",
       "    </tr>\n",
       "  </tbody>\n",
       "</table>\n",
       "<p>9988 rows × 2 columns</p>\n",
       "</div>"
      ],
      "text/plain": [
       "                                                 review sentiment\n",
       "0     starts nice intro build main characters minute...  negative\n",
       "1     terrific movie watch watch gena davis samuel j...  positive\n",
       "2     ive hundreds silent movies classics nosferatu ...  positive\n",
       "3     film long found younger loved viewing loved lo...  positive\n",
       "4     good engaging cinematic firefights great prese...  positive\n",
       "...                                                 ...       ...\n",
       "9995  made fool start review movie reminded billy el...  negative\n",
       "9996  feel duty lover horror films warm people horri...  negative\n",
       "9997  film made creators thinking hmm film plot made...  negative\n",
       "9998  true sadomasochism sided coin diverse expressi...  positive\n",
       "9999  watch vhf friends thought pretty good movie te...  negative\n",
       "\n",
       "[9988 rows x 2 columns]"
      ]
     },
     "execution_count": 16,
     "metadata": {},
     "output_type": "execute_result"
    }
   ],
   "source": [
    "df1"
   ]
  },
  {
   "cell_type": "markdown",
   "metadata": {},
   "source": [
    "# lemmatization "
   ]
  },
  {
   "cell_type": "code",
   "execution_count": null,
   "metadata": {},
   "outputs": [],
   "source": [
    "# nlp = spacy.load('en_core_web_sm')"
   ]
  },
  {
   "cell_type": "code",
   "execution_count": 18,
   "metadata": {},
   "outputs": [],
   "source": [
    "# df1['review'] = df1['review'].apply(lambda token: ' '.join([token.lemma_ for token in nlp(token)]))"
   ]
  },
  {
   "cell_type": "markdown",
   "metadata": {},
   "source": [
    "# normalize text"
   ]
  },
  {
   "cell_type": "code",
   "execution_count": 19,
   "metadata": {},
   "outputs": [],
   "source": [
    "import contractions\n",
    "import re \n",
    "from  unidecode import unidecode  "
   ]
  },
  {
   "cell_type": "code",
   "execution_count": 20,
   "metadata": {},
   "outputs": [],
   "source": [
    "def normalize_text(text):\n",
    "    text = contractions.fix(text) \n",
    "    text = re.sub(r'\\s+', ' ', text).strip() \n",
    "    text = unidecode(text)  \n",
    "    return text"
   ]
  },
  {
   "cell_type": "code",
   "execution_count": 21,
   "metadata": {},
   "outputs": [],
   "source": [
    "df1['review'] = df1['review'].apply(normalize_text)"
   ]
  },
  {
   "cell_type": "code",
   "execution_count": 22,
   "metadata": {},
   "outputs": [
    {
     "data": {
      "application/vnd.microsoft.datawrangler.viewer.v0+json": {
       "columns": [
        {
         "name": "index",
         "rawType": "int64",
         "type": "integer"
        },
        {
         "name": "review",
         "rawType": "object",
         "type": "string"
        },
        {
         "name": "sentiment",
         "rawType": "object",
         "type": "string"
        }
       ],
       "conversionMethod": "pd.DataFrame",
       "ref": "d92b4b20-8d5f-46f8-bc8c-7bcbbeb31976",
       "rows": [
        [
         "0",
         "starts nice intro build main characters minutes charm lost character mould main protagonist american pie loser supporting cast innovative storyline made pie movies commercial success let us honest headers acting pretty poor keaton daniels paris substantial plot script teeth movie plods pace clear logical storyline justifying length ending predictable predictable i have ticked spoilers box line advice avoid costs listen watch you will feel producers cheated hour half life",
         "negative"
        ],
        [
         "1",
         "terrific movie watch watch gena davis samuel jackson amazing movie great actors good story incredible action scenes long kiss goodnight give stars",
         "positive"
        ],
        [
         "2",
         "i have hundreds silent movies classics nosferatu metropolis general wings favourite film favourite fact looked id noticed immediately laughed movie gosh darn cute made marion davies proved movie great talent william randolph hearts mistress story involves hick georgia coming hollywood expectation instant star experiences interesting cameos stars era make real treat movie buffs",
         "positive"
        ],
        [
         "3",
         "film long found younger loved viewing loved love hate film bottom young comic strip find funny do not kind humour do not bother love film grown comedy programmes film simply placing comic genius big screen award winner means good wholesome slapstick film lacks quality series case films material laughing lot jokes pretty similar previous work humour childish taste film",
         "positive"
        ],
        [
         "4",
         "good engaging cinematic firefights great presentation vehicles fun drive fairly appealing multiplayer faithful movie list bad main missions bit short game defines good person shooter necessarily spy game great firefights carry story make complete single mission unlock genuine bonuses game offer hype game lived personally buy hook couple friends play loads fun sound game rip roaring achievement previous bond games firing weapon feels you are firing weapon ties aspect deadly ruthless spy game makes excited satisfied make multiplayer compete standards crafty james bond night fire game game cube",
         "positive"
        ],
        [
         "5",
         "art art gallery movie theatre intertwine art film proves disastrous heart interesting cast totally wasted embarrassment disney coleman short time crispin glover bartlett una thurman kill bill christopher plumper silent partner character terrible embarrassment fact entire production embarrassment human artwork intriguing minutes make short subject audience pointless nonsense masquerading filmed entertainment mark",
         "negative"
        ],
        [
         "6",
         "hey star trek beloved la la great relative boils guy elf ears grooving swatch pizza coloured shag rug kind man richness tunnel hunt creepier episodes shows suspense suspenseful peril feels perilous kid cried spock told hideous creature sad scared horrified people eating early lessons empathy lesson reinforced empathy episode thrilling melancholy bothered thing meat tomato barf consists rock kind choice visionary hippie designers idea glass university smack drug era",
         "positive"
        ],
        [
         "7",
         "movie lot downsides painfully long directed audience impatient waiting end run time hrs edited hrs transition stories average people confessed seating expecting funny pockets ambitious project par execution lorinda fair job anil poor disappointed rest expected expecting close babel love close",
         "negative"
        ],
        [
         "8",
         "horror movie terrible stop laughing plot covered reviewers ill add things hilarity reviews location south america africa thought random island pacific place mystery cannibal tribe conformed couple black women black men man young frank zappa banging drums devil god large black man terrible case pink eyes freakiest moments film pablo find partner hanging tree covered orange substance assume blood starts screaming minutes funny head partner falls ground pablo kicks bit assume shits giggles eyes move freak realize eyes moved movie bad had not laughed recommend film sunday afternoon friends grab case beers start watching film you will love real horror gore movie do not bother",
         "negative"
        ],
        [
         "9",
         "brian de palms undeniable virtuosity camouflage fact plot thinly disguised psycho carbon copy provide genuinely terrifying climax blow made year improvement",
         "positive"
        ],
        [
         "10",
         "urban cowboy john travolta plays stronger alpha males portrayed big screen hes decent young kid leaves parents homestead strikes big city dallas uncle barry corban promised find work petrochemical industry beginning boom texas growing place travolta good job making audience care character sexist pig meets marries debra winger who is background she is ideas women shadows men beats galleys mechanical bull mans game scott glenn who is sex convict working galleys film breakout role hes real snake urban cowboy travolta goat mere moves winger travolta turn takes rich girl madelyn smith osborne who is slumming galleys characters urban cowboy gigantic commercial styled biggest honky world galleys longer suburban texas community pasadena memories live thing urban cowboy wonderful score country western songs featured film i am songs written specifically urban cowboy reason motion picture academy musical aspects film johnny leeds love specifically written film disgrace was not nominated song debra wingers character film does not lose trace femininity stands travolta style review dedicated unknown woman day woman bull rider professional bull riders",
         "positive"
        ],
        [
         "11",
         "movie day did not enjoy george jungle good comedy sequel completely awful actor actress play lead roles were not good original actor brandon fraser original actress forgot movie ten rating film sit watch enjoy film turn channel back shop hired bought good ape ape back was not fun george georges son grown breton what is face film could have bit",
         "negative"
        ],
        [
         "12",
         "intriguing disaster movies simple primal premise lead great stories granted disaster movies tend explore familiar territory live flood marks low point history genre robert carlyle undoubtedly star movie screen time split locations characters barely decent performance joanne halley uneven veteran actor tom courtesy played doctor zhivago heavens sake bad timing completely time characterization extremely poor embarrassing performance man rest cast ranges decent bad exception jess alan gil sig thought plot device eye candy convincing performance does not bad nice cared script bad confusing cliche worse lines heard time delivered actors you have story thousand times employs dramatic hook tearjerkers you have outbreak armageddon poseidon movies original remake direction awful sense timing inspired shots bland dialog action fail flow editing bad edit mess doubt movie rely poor chi human factor drama struggles characters glossed scenes characters face flood rare poorly made feel nausea guy supposed rope helicopter problem let us show inside helicopter make poor cut editing job frame safely ground obvious movie score poor place timing ending worse time ran ideas scrap run place ran budget amateur job give london location nice change gil sig decent key support role chi shots decent water closing london gates favor check day tomorrow disaster movie includes older classics towering inferno",
         "negative"
        ],
        [
         "13",
         "film calculated attempt cash success sex city weddings funeral fact they would called sex funeral box office film falls stools characters spout improbably bright dialog act remotely recognizable human arbitrary senseless action advance passes plot tires falsity enterprise brandie mcdowell points acting heart performing honor stolen imelda stanton things police detective do not height requirement stanton unable make false move writer director hill annoyed bogus stay phones bol gnus half she will",
         "negative"
        ],
        [
         "14",
         "epic early film directed griffith mae marsh sister dogs orphaned live uncle aboard coach young couple lillian gish robert barron celebrating birth child coach arrives elder bush gulch marshes uncle tells dogs put indians native americans nearby indians love eat dog meat kidding indians hungry lionel barrymore sympathetic marsh desiring recover runaway dogs rescuing puppies indian shot resulting cowboys indians confrontation saga american west important film reliable griffith performers begin overplay hands story contrived griffith elements place good bad battle elder bush gulch foreshadows epic birth nation battle elder bush gulch griffith mae marsh robert barron lillian gish",
         "positive"
        ],
        [
         "15",
         "good cast appallingly wasted slower molasses haphazardly connived comedy peter ustinov hard bring life result dour bore misses beats made watchable favorable comments film awful badly directed badly edited badly acted badly written sit hundred movies bad muddled excruciatingly laggard plot concerns ustinov conning american insurance company order hack computer embezzle millions pounds lameness credibility learns computer skills seemingly overnight reading pamphlets hoodwink computer expert robert morley south america stealing identity side plot ustinov romances fellow loner maggie smith secretary chance flat building ends sharing scenes sexual undertones bob art ustinov grafting money bit bit step ahead art karl maiden marries smith fly brazil staple finale british caper comedy nuns run fish called wanda surprise twist ending laughable end thinking rocker stick drivel cameo cesar romero did not unfunny poorly paced comedies i have worst caper do not waste time love films",
         "negative"
        ],
        [
         "16",
         "spoilers major regime country media ends nazi banning leaflets televised chinese alternative amen square governments influence people mediums beginning time celebrating failed mutiny russian communist government supported creation film battleship potemkin major piece cinematic history remains powerful beautiful day set aboard battleship potemkin crew unhappy miserable living conditions maggot infested food angry upper class suppressors rotten food led gregory inch ale sand ant nov crew turn masters fight freedom propaganda battleship potemkin perfect presenting positive light unsuccessful communist mutiny film soviet tool eighty years films release user disappeared completely map amazing thing film whilst country message intended disappeared film remains powerful worthy piece cinema written directed sergei eisenstein film surprisingly joy watch true nowadays entertainment film beautiful piece art scenes aboard boat talked scene steps odessa film perfectly made music powerful dramatic lighting flawless acting whilst slightly overdone perfect piece basically fault films end product impossible russian people received film release praising country existed fifteen years difficult full spirits film inspires piece art magnificent beautiful start finish easy watch worth effort",
         "positive"
        ],
        [
         "17",
         "admit movie did not high expectations low expectations totally utterly disappointed basically luke wilson hot shot slightly crazy girlfriends slight mention girl stalking pretty character do not mind underdeveloped rest movie subway rain wilson movie convinces talk hot girl una thurman strange una thurman belong category hot rain wilson performance hot i am acting could not salvage movie character jumpy unrealistic annoying writers make comical token closet gay guy desperate painful steals purse leave subway luke wilson charming savior runs robber una thurman superhero girl call movie baffles stands leave message boards debate sex scenes assume supposed funny find sex throw bed wall una thurman passion let us makes head hurt i am thinking hard understand una insults anna paris calling whore debate fact choose movies properly act relies soul fact she is blonde typical could have walked theatre had not paid characters typical absolutely chemistry una thurman move head lot does not you are acting script storyline could have lot work match lighter fluid started feel embarrassed actors dying careers money respect waste time pathetic attempt movie",
         "negative"
        ],
        [
         "18",
         "movie bad comments pointed obvious flaws script watchable creeps people justin timber lake cast movies top movies admit heard mans watching instant appeared plain annoyed voice crap face bad rip leg las posture horrible properly coordinate delighted jumped leaving disco hoping morgan freeman kevin spacey bad wrong cool give decent performance main reason give upcoming movies timber lake cast",
         "negative"
        ],
        [
         "19",
         "viewing dog profoundly unmemorable read peoples reactions remember awful connery quit ahead film included total gross bit involving faking retinal scan gruesome mention horribly inefficient means i have understood prefer connery bond films worst moore dalton outings laze bros nan david matter personally found oct pussy moonraker canonical bond films entertaining reasons deprecate moore bond films wry humour willingness surrender preposterous ness basic bond milieu",
         "negative"
        ],
        [
         "20",
         "slow moving aimless movie distressed drifting young man lost flat characters audience half walked attempting art ness black white clever camera angles movie disappointed ridiculous acting poor plot lines existent music speak scene movie gerardo find song running head record store buy lover sing song sales clerks find album cute scene gave promise downhill rest movie lacks art charm meaning emptiness works guess empty wasted hours",
         "negative"
        ],
        [
         "21",
         "picture secure film greatest adventure time epics entertainment marvel sense real bonded friendship chemistry actors performances sam jaffa eduardo minnelli outstanding today ending colonel recites end killings poem body gun din tells untouchable you are man gun din do not make movies character today cast member alive today joan",
         "positive"
        ],
        [
         "22",
         "spoiler id cautious careless movie fell love time year daughter watch acting ilene woods lifetime wonderful voice cinderella appealing believable music fit movie perfectly acting great loved mice hated lady remain step sisters awful cartoonists depicted spoiled behavior wonderful movie love stories daughter movie times excited end",
         "positive"
        ],
        [
         "23",
         "facetious movie worse movie made worse batman robin worse manor hands fate bad people movie terrible girls scale figure movie comparable girls will not watch good ill watch laugh retards paid make movie good piece garbage",
         "negative"
        ],
        [
         "24",
         "creative team dead good amazing teen comedy lot fun place funny curtis armstrong effect incredibly funny dead bobcat gold waite hilarious crack good demo moore demo moore hair fun person cape cod catches feeling cape cod summer effectively reason film feels mainstream dead is not left field absurdity fan john crack savage steve holland recommended",
         "positive"
        ],
        [
         "25",
         "wow told movie worth watching feel misled preview event plot twisted make films title film give movie credit cleaners would not waste time movie appears bunch wannabes made poor idea movie weekend borrowed camera entertainment business judge decent film deserves shelved discarded advice stick classic dawn dead scale nice producers movie blows limit sucks producers stay daytime jobs view movie honest posting hyped inflated posted correctly skipped",
         "negative"
        ],
        [
         "26",
         "george sanders playing saint penultimate time good job good script usual good rio cast charters story bristling murders good clean fun thread york police inspector furnace templars friend framed corruption scandal disgraced st london put things nice simple world thread tale woman taking revenge people murdered brother wendy barrie bumping nasty men saint fall love boot including baddie direct protection racks cellar creepy shot dead staring car they are taking back they would paul guilty pearly gates supposed homosexual witness dressing gown beginning beguiling comment st thinking keeping pet palm springs furnace played jonathan hale usual time beaten deflated attitude needed good slapping templar liven hays office made picture threads tied straggly bits worth watching kind thing val killers version yardstick do not bother",
         "positive"
        ],
        [
         "27",
         "confused world movie killers motivation angry figure movie made sense depth depth guess make hill pile crap acting horrible searched actors movie things heard absolutely surprise decide feel embarrassment movie bad feel offered acting job starting seinfeld reference do not waste time substance make fun undoubtedly worst slasher flicks worst flicks kind misfortune watch i have",
         "negative"
        ],
        [
         "28",
         "hint gathered comments thread amazed number people film make mandatory compulsory bit insight reason film issue underlying polarizing global warming issue appeals lot people force appeals liberal leaning people does not bedroom morality conservatives force good brand problem film al gore politician successful appealing people force political appeal great brand left scientific issue huge importance reduced political issue appealing body politic predilection force interesting question environmental movement hijacked people",
         "negative"
        ],
        [
         "29",
         "exciting fairly original series fox degraded meandering tripe season dark angel weekly list jessica alba powers fox decided needed fine tune plot line episodes season opener totally lost viewer jessica alba found characters added season ridiculous amateurish plot lines stretching continuity credibility show thin season episodes max sleeping dreaming season stated biologically could not sleep moral story hollywood works do not screw jazz",
         "negative"
        ],
        [
         "30",
         "swear cocaine id relate film perfectly pace dialog churns speeds viewers stop relax heads great elements pop film rob lowers character loosing shoe characters running spirals zigzagged path story put extremely direction flawless movie reeks clumsy cuteness enjoy laugh loud moments ensure ill watching",
         "positive"
        ],
        [
         "31",
         "lost count times watched movie i have grown tired movie enjoyed interpreted levels do not make movies anymore recently finally watching riveting documentary making film hearts darkness filmmakers journey madness i am amazed film finished turn great fact filmed movie jungles phillip ines films greatest asset feel vietnam actors fantastic favourites robert dual love smell napalm morning martin sheen great marlon brando lot people complain film murky weird cerebral end remember coppola movie film vietnam vietnam means film madness war movie based short story heart darkness joseph conrad set vietnam war civil war book brilliant combination opinion perfect challenging film dark violent humorous times single true classic rating",
         "positive"
        ],
        [
         "32",
         "mel brooks movies space balls openly admit watched silly funny minutes entire hour run time are not entertained gags great comical effect fall flat movie reviewing spy hard comparing spoof movies realize high quality movie funny start finish comedy overdone boring music marvellous choreography dancing fighting acting pretty expect type movie elves great comedian makes good robin plot typical robin hood legend fit movie spoofed majorly mel brooks you are fan silly humour you are dying watch good parody legend robin hood film hob special film worth watching watching credits id recommend fan mel brooks movies people enjoy silly humour",
         "positive"
        ],
        [
         "33",
         "excellent trailers vanilla sky expecting disappointed film id heard great reviews left cinema completely awe good vanilla sky bad acting film single character believable romantic moments cruises character david games cruz character sophia tear jer kingly realistic intimate due fact real life couple plot vanilla sky confuse film chance guessing ending ends tied end leaving strange mixture feelings consisting sadness shock empathy david games film intellectual pay attention is not hard chances you will completely drawn film will not eyes screen leave cinemas forgetting film watch vanilla sky lingering mind days watching recommend change simple shallow films",
         "positive"
        ],
        [
         "34",
         "disappointing performance brad pitt plot superficial lame indirectly intended film glorify nazis portrays men honor show jewish people deceiving promises bloody vicious spoiler hitler notorious nazis attending stupid plot movie killing italian soldiers small cinema theatre paris unbelievably ridiculous nazis laughing hooray killing movie watching basketball game stupid deal end lame what is appalling movie earned great reviews ranked greatest films surprised harvested awards including oscars movie simply kissing ass jewish people hey reconsider great job dwarfed nazi jews conflict pure insult fought suffered tyranny nazis",
         "negative"
        ],
        [
         "35",
         "big fan stephen kings work film made greater fan king pet seminary creed family moved house happy pet cemetery house creeds neighbour jud played fred gwyn explains burial ground pet cemetery burial ground pure evil jud tells louis creed bury human kind pet burial ground back life problem back person they are evil jud explains pet seminary starts hell will not explain anymore do not give main parts film acting pet seminary pretty good needed bit work story main parts movie original gripping film features lots make effects make movie eerie frightening basic reasons movie chills back fact make effects character film freaky character zelda character pops film times precise zelda rachel creeds sister passed years rachel haunted time zelda appears movie is not generally scary is not talking time worst honest time scares living absolutely wrong movie perfect pet seminary delivers great scares pretty good acting rate plot mesmerizing make favourite horror films time",
         "positive"
        ],
        [
         "36",
         "island death good movie standard curious imagine natural born killers made years early greek eur trash porn film quaint story young sociopathic british couple cutting deadly swath population lovely greek island ill spare detailed breakdown plot important set increasingly perverse violent sex scenes disturbingly brutal murders lovingly photographed posterity charming young couple brilliant sick nasty found impatiently checking run time chapter index longer parade sluggish pacing listless bland acting turn vilest verities pablum connecting scenes eternity dull plodding win pm",
         "negative"
        ],
        [
         "37",
         "genuine shame spin series inspired superior made pictures night stalker night strangler lasted single season twenty episodes program offered winning highly entertaining blend sharp cynical humour carl koch spirited verbal sparring matches perpetually irascible long suffering editor tony vincent treat watch hear clever writing nifty supernatural menaces got to love offbeat original creatures spanish moss murders sentry horror heights wrong true fright favourites zombies vampires werewolves witches colourful characters lively acting raft cool guest stars legendary biker flick icon william smith rare chance tackle heroic lead energy eater episodes featured great veteran character actors keenan wynn john fiedler john dealer severn garden william daniels juicy roles effective moments genuine suspense sewer set climax spanish moss murders harrowing darren gavin peak zesty form brash aggressive excitable basically decent brave honest small time chicago illinois newspaper reporter carl chat chat quintessential hes everyman protagonist wily quick witted fellow strong nose tasty scoop unfortunate knack kinds trouble occasionally bumbling chat superhuman tripped stumbled running deadly threat possessed strength courage enabled save human race time time kinds lethal otherworldly foes chat surrounded handful enjoyable secondary characters simon oakland perfect carlos chronically ill tempered boss tony vincent jack grin page prissy ron updike made ideal comic foil ruth made simply delightful sweet miss emily coles carol ann sushi likewise lot fun eager beaver rookie monique mar epstein alas disappeared popping episodes granted show suffer lacklustre make special effects titular lycanthrope werewolf resembles yorkshire terrier episodes boasted laughably silly monsters headless motorcyclist chopper cathy lee crosby helen troy youth killer rate shows redeemed programs trademark wickedly sly sardonic wit savings boundless vitality engagingly scrappy presence",
         "positive"
        ],
        [
         "38",
         "lucky film part melbourne international film festival days ago admit partial movies focus human relations concentrate tragic side life love majority scandinavian cinematic offerings deep quality story unfolds characters drawn character building film extraordinary details depth fact encounter number characters personal situations locations community audience end screening silent pensive playing scenes mind amazed power meaningfulness",
         "positive"
        ],
        [
         "39",
         "great acting great production values good direction script starts great pacing interest half falls half clear character motivation half half leaves questions unanswered conflicts raised compelling follow weak instance clear rudyard kipling pro war do not philosophical stance film sort picture makes facts history books do not feel rely film clear idea depiction war heartbreakingly accurate women lack enthusiasm does not reflect war hysteria swept britain time historically accurate film simply do not",
         "negative"
        ],
        [
         "40",
         "movie child released theatre bad makings family joke ranking movie dinosaurs awful storyline ridiculous acting does not qualify called acting reason remember movie family talks bad",
         "negative"
        ],
        [
         "41",
         "hoot kid arrives florida montana faces usual problems blending dealing local bully aware bigger problem franchise restaurant chain build site town number burrowing owls live movie family film pretty radical shows sympathetically roy couple friends shy lawbreaking including vandalism private property briefly kidnapping manager chain restaurants environmentalism save owls agree actions movie courage shying convictions good solid film",
         "positive"
        ],
        [
         "42",
         "watched today tom reviewers find davies weak actress awful attempt irish irish american accent she is star sort hard past reviewers finest performance terrible davies performance marianne watched today film rating accent switches correct french woman odd combination italian swiss interestingly times hour bio davies captured film true story marion davies film historian jeanine basin ger claims things note marion davies sound work good accents bio includes commentary fans make davies attractive young woman accounts terrific comedienne real life brand part anatomy added immeasurably real life answer joseph contents characters search meaning kansas final word opening scene great citizen kane she is earned spot great stories hollywood history welles mankind ice part susan alexander facsimile real article do not bother voting agree disagree post could not care",
         "negative"
        ],
        [
         "43",
         "nicely voyages great continuation fab james cowley latest episode vigil check growing characterisation good replacements actors fan produced piece show manages capture feel state ste improved years experience hope experience strong script editor pick timing chi remarkable good work concerned huge soft spot seller mcfarland great acting i am bit tired seller laws shelby great uptight cool ship commodore hands nice fred flintstones lacks gritty edge commanding officer pleased doc counselor rawlings money eyes wonderful chase beautiful accent real russian i am guessing rene hails czech rep vote chi keel green screens obvious small budget whaddayagonndo glad found book acting is not great fan made allowed variable cole gay material played thick graham norton embarrassed trek does not pay attention hetero couples signpost gays snogging showpiece someone is sexuality extent hope tone aster zen people tokens do not treat gay friends differently they are regular guys musically mixed bag stock trek stuff works time timing fall flat end worst fears part misses crunch edit love fact galaxy quest music wait tazza give surrender viva les frontiers",
         "positive"
        ],
        [
         "44",
         "do not start behave story injected movie pot brownies son gay murder justified reason script linda aka penelope exist explained fluid spilled table left dripping counter made big mess floor vanessa redgrave make cameo diane west bullets broadway character camp fun jane firkin storyline begin list endless movie ended looked understand thing watched long lost dad murdered would not hugging murderer thing bob broke bob purpose hiding son closet bob sex bob front son murderer contact son easily review sounds confused waste film talent time heck dead shrink jazz worst films stronger made kind sense sense watered diva film complete murder tired performances reading boring words script completely insane pass folks rest people reviewed film stupid understand french film",
         "negative"
        ],
        [
         "45",
         "comment id website reason i am writing talking films gory make laugh cry time fall love you are fan georgian choir singing tradition possibly accept hardships existence feel good watching lot film actors leading roles create vivid memorable characters interesting important central character film starring pahang abide great remember single face film find quoting lines household names russian speaking people film live simple deep watch",
         "positive"
        ],
        [
         "46",
         "film child grow distorted passed ideas generation generation family grew places miles school friends color creed religion years life moved hillbilly country anymore unusual african american kid class graduating class high school african americans god black call honky whitey political correctness peeves back film give people distorted view ignorance lack understanding culture country excellent film children",
         "positive"
        ],
        [
         "47",
         "ignore bad reviews film awesome dawn great film minimal budget dedicated crew decent script cool idea film hell lot fun enjoyed lot hes slashers killer unique wrong turn ripped movie fierce plenty blood scares girlfriend freaked watches does not flinch creepiness id dawn early hes slasher enjoyed kids",
         "positive"
        ],
        [
         "48",
         "baby face precede melodrama starring young barbara stan wick unrecognizable george brent theresa harris girl city make good make time stay cars father pimping reason life dingy depressed filthy erie pennsylvania father dies older father type she is cares future advises big city advantage opportunities easy high road life note censored version uncut part film redone censors chico harris york lily nickname baby face decides low roads lot smoother lot faster movies famous scene camera moves corporate ladder taking floor floor lily sleeps top finally corrals big man quit day job trouble she is involved huge scandal stan wick wears lots makeup film cool cucumber seduces man regrets she is great playing innocent victim scene sits staring kings ransom jewels wearing black dress decorated diamonds top asks chico case filled jewellery securities days work theresa harris interesting talent played glamorous talented singer dancer sings hums movies theme st louis woman worked literally dozens movies good friend stay cars work precede era bizarre byproduct code blacks films put place precede films sexually blatant they are years modern films did not moral endings baby face learns lessons life endings film message added scene apparently endings did not pass censors was not code censors rate neat surprise baby face important film movie history",
         "positive"
        ],
        [
         "49",
         "hooray korean cinema year chung yang hide catch hons directorial debut christmas august variety themes level achievement speak highly national cinema ripe discovery films major themes death love graceful thoughtful jung won han sun kyd copes impending death sublimation desires darin shim sun true love deeply moved careful management behavior emotions shielding darin unnecessary pain rejecting success type film predicated skill actors han shim excel expressive naturalistic number secondary characters jung will not relatives friends clients quickly delineated enrich story detracting main focus live love things pass pain subsides life",
         "positive"
        ]
       ],
       "shape": {
        "columns": 2,
        "rows": 9988
       }
      },
      "text/html": [
       "<div>\n",
       "<style scoped>\n",
       "    .dataframe tbody tr th:only-of-type {\n",
       "        vertical-align: middle;\n",
       "    }\n",
       "\n",
       "    .dataframe tbody tr th {\n",
       "        vertical-align: top;\n",
       "    }\n",
       "\n",
       "    .dataframe thead th {\n",
       "        text-align: right;\n",
       "    }\n",
       "</style>\n",
       "<table border=\"1\" class=\"dataframe\">\n",
       "  <thead>\n",
       "    <tr style=\"text-align: right;\">\n",
       "      <th></th>\n",
       "      <th>review</th>\n",
       "      <th>sentiment</th>\n",
       "    </tr>\n",
       "  </thead>\n",
       "  <tbody>\n",
       "    <tr>\n",
       "      <th>0</th>\n",
       "      <td>starts nice intro build main characters minute...</td>\n",
       "      <td>negative</td>\n",
       "    </tr>\n",
       "    <tr>\n",
       "      <th>1</th>\n",
       "      <td>terrific movie watch watch gena davis samuel j...</td>\n",
       "      <td>positive</td>\n",
       "    </tr>\n",
       "    <tr>\n",
       "      <th>2</th>\n",
       "      <td>i have hundreds silent movies classics nosfera...</td>\n",
       "      <td>positive</td>\n",
       "    </tr>\n",
       "    <tr>\n",
       "      <th>3</th>\n",
       "      <td>film long found younger loved viewing loved lo...</td>\n",
       "      <td>positive</td>\n",
       "    </tr>\n",
       "    <tr>\n",
       "      <th>4</th>\n",
       "      <td>good engaging cinematic firefights great prese...</td>\n",
       "      <td>positive</td>\n",
       "    </tr>\n",
       "    <tr>\n",
       "      <th>...</th>\n",
       "      <td>...</td>\n",
       "      <td>...</td>\n",
       "    </tr>\n",
       "    <tr>\n",
       "      <th>9995</th>\n",
       "      <td>made fool start review movie reminded billy el...</td>\n",
       "      <td>negative</td>\n",
       "    </tr>\n",
       "    <tr>\n",
       "      <th>9996</th>\n",
       "      <td>feel duty lover horror films warm people horri...</td>\n",
       "      <td>negative</td>\n",
       "    </tr>\n",
       "    <tr>\n",
       "      <th>9997</th>\n",
       "      <td>film made creators thinking hmm film plot made...</td>\n",
       "      <td>negative</td>\n",
       "    </tr>\n",
       "    <tr>\n",
       "      <th>9998</th>\n",
       "      <td>true sadomasochism sided coin diverse expressi...</td>\n",
       "      <td>positive</td>\n",
       "    </tr>\n",
       "    <tr>\n",
       "      <th>9999</th>\n",
       "      <td>watch vhf friends thought pretty good movie te...</td>\n",
       "      <td>negative</td>\n",
       "    </tr>\n",
       "  </tbody>\n",
       "</table>\n",
       "<p>9988 rows × 2 columns</p>\n",
       "</div>"
      ],
      "text/plain": [
       "                                                 review sentiment\n",
       "0     starts nice intro build main characters minute...  negative\n",
       "1     terrific movie watch watch gena davis samuel j...  positive\n",
       "2     i have hundreds silent movies classics nosfera...  positive\n",
       "3     film long found younger loved viewing loved lo...  positive\n",
       "4     good engaging cinematic firefights great prese...  positive\n",
       "...                                                 ...       ...\n",
       "9995  made fool start review movie reminded billy el...  negative\n",
       "9996  feel duty lover horror films warm people horri...  negative\n",
       "9997  film made creators thinking hmm film plot made...  negative\n",
       "9998  true sadomasochism sided coin diverse expressi...  positive\n",
       "9999  watch vhf friends thought pretty good movie te...  negative\n",
       "\n",
       "[9988 rows x 2 columns]"
      ]
     },
     "execution_count": 22,
     "metadata": {},
     "output_type": "execute_result"
    }
   ],
   "source": [
    "df1"
   ]
  },
  {
   "cell_type": "code",
   "execution_count": 24,
   "metadata": {},
   "outputs": [],
   "source": [
    "df1.to_csv('../artifacts/cleanDataset.csv', index = False)"
   ]
  },
  {
   "cell_type": "code",
   "execution_count": null,
   "metadata": {},
   "outputs": [],
   "source": []
  }
 ],
 "metadata": {
  "kernelspec": {
   "display_name": "AIenv",
   "language": "python",
   "name": "python3"
  },
  "language_info": {
   "codemirror_mode": {
    "name": "ipython",
    "version": 3
   },
   "file_extension": ".py",
   "mimetype": "text/x-python",
   "name": "python",
   "nbconvert_exporter": "python",
   "pygments_lexer": "ipython3",
   "version": "3.10.16"
  }
 },
 "nbformat": 4,
 "nbformat_minor": 2
}
