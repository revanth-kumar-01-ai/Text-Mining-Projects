{
 "cells": [
  {
   "cell_type": "markdown",
   "metadata": {},
   "source": [
    "### **Ordered Steps for Text Preprocessing** 📝✅  \n",
    "\n",
    "1️⃣ **Sentence Boundary Detection** – Split text into sentences.  \n",
    "   **Example:** `\"I love AI. It is amazing!\"` → `[\"I love AI.\", \"It is amazing!\"]`  \n",
    "\n",
    "2️⃣ **Lowercase Conversion** – Convert all text to lowercase.  \n",
    "   **Example:** `\"Hello World!\"` → `\"hello world!\"`  \n",
    "\n",
    "3️⃣ **Spelling Correction** – Fix spelling mistakes.  \n",
    "   **Example:** `\"Ths is amzing\"` → `\"This is amazing\"`  \n",
    "\n",
    "4️⃣ **Punctuation Removal** – Remove special characters.  \n",
    "   **Example:** `\"Hello, world!\"` → `\"Hello world\"`  \n",
    "\n",
    "5️⃣ **Stop Words Removal** – Remove common words (e.g., \"is\", \"the\").  \n",
    "   **Example:** `\"This is a great day\"` → `\"great day\"`  \n",
    "\n",
    "6️⃣ **Stemming** – Reduce words to their root form.  \n",
    "   **Example:** `\"running\", \"runner\"` → `\"run\"`  \n",
    "\n",
    "7️⃣ **Text Normalization** – Standardize text (e.g., expand contractions, fix slang).  \n",
    "   **Example:** `\"I'm gonna go\"` → `\"I am going\"`  "
   ]
  },
  {
   "cell_type": "code",
   "execution_count": 1,
   "metadata": {},
   "outputs": [],
   "source": [
    "uncleanTextData = \"\"\"\n",
    "Once upon a time!!!, there were two FRIENDS.. They are, umm, living in a small vlllage near the river. \n",
    "One day, as they were walking.. on the road, they saw.. a big dark cloud in the sky! \n",
    "\"oh no...! I think it's going to rain heavily,\" said one friend. \n",
    "\n",
    "The other replied, \"Nahh! don’t worry, bro. It's just a cloudd. Let's keep walking\". \n",
    "\n",
    "Suddenly, a strong wind started blowingg! The trees began to shake, and the leaves flew everywhere. \n",
    "The friends rushed to find shelter near an old, abandoned hut. \"See? I told you!\" - the first friend exclaimed. \n",
    "\n",
    "After a few minutes, the rain poured down heavilly. They had nowhere else to go, so they sat under the hut waitingg...\n",
    "\n",
    "\"\"\""
   ]
  },
  {
   "cell_type": "code",
   "execution_count": 2,
   "metadata": {},
   "outputs": [],
   "source": [
    "# step one sentences Boundary \n",
    "\n",
    "from nltk.tokenize import sent_tokenize\n",
    "\n",
    "sentences = sent_tokenize(uncleanTextData)"
   ]
  },
  {
   "cell_type": "code",
   "execution_count": 3,
   "metadata": {},
   "outputs": [
    {
     "data": {
      "text/plain": [
       "['\\nOnce upon a time!!',\n",
       " '!, there were two FRIENDS..',\n",
       " 'They are, umm, living in a small vlllage near the river.',\n",
       " 'One day, as they were walking.. on the road, they saw.. a big dark cloud in the sky!',\n",
       " '\"oh no...!']"
      ]
     },
     "execution_count": 3,
     "metadata": {},
     "output_type": "execute_result"
    }
   ],
   "source": [
    "sentences[:5]"
   ]
  },
  {
   "cell_type": "code",
   "execution_count": null,
   "metadata": {},
   "outputs": [],
   "source": [
    "# step two lowercase conversion \n",
    "\n",
    "lower_sentences = [sentence.lower() for sentence in sentences]"
   ]
  },
  {
   "cell_type": "code",
   "execution_count": 5,
   "metadata": {},
   "outputs": [
    {
     "data": {
      "text/plain": [
       "['\\nonce upon a time!!',\n",
       " '!, there were two friends..',\n",
       " 'they are, umm, living in a small vlllage near the river.',\n",
       " 'one day, as they were walking.. on the road, they saw.. a big dark cloud in the sky!',\n",
       " '\"oh no...!']"
      ]
     },
     "execution_count": 5,
     "metadata": {},
     "output_type": "execute_result"
    }
   ],
   "source": [
    "lower_sentences[:5]"
   ]
  },
  {
   "cell_type": "code",
   "execution_count": 6,
   "metadata": {},
   "outputs": [],
   "source": [
    "# step three spelling correction \n",
    "\n",
    "from textblob import TextBlob"
   ]
  },
  {
   "cell_type": "code",
   "execution_count": 20,
   "metadata": {},
   "outputs": [],
   "source": [
    "correct_sentences = [str(TextBlob(sentence).correct()) for sentence in lower_sentences]"
   ]
  },
  {
   "cell_type": "code",
   "execution_count": 21,
   "metadata": {},
   "outputs": [
    {
     "data": {
      "text/plain": [
       "['\\nonce upon a time!!',\n",
       " '!, there were two friends..',\n",
       " 'they are, ulm, living in a small village near the river.',\n",
       " 'one day, as they were walking.. on the road, they saw.. a big dark cloud in the sky!',\n",
       " '\"oh no...!']"
      ]
     },
     "execution_count": 21,
     "metadata": {},
     "output_type": "execute_result"
    }
   ],
   "source": [
    "correct_sentences[:5]"
   ]
  },
  {
   "cell_type": "code",
   "execution_count": 9,
   "metadata": {},
   "outputs": [],
   "source": [
    "# step four punctual removal \n",
    "\n",
    "import string "
   ]
  },
  {
   "cell_type": "code",
   "execution_count": 24,
   "metadata": {},
   "outputs": [],
   "source": [
    "punctuation_free_sentences = [sentence.translate(str.maketrans('', '', string.punctuation+'\\n')) for sentence in correct_sentences]"
   ]
  },
  {
   "cell_type": "code",
   "execution_count": 25,
   "metadata": {},
   "outputs": [
    {
     "data": {
      "text/plain": [
       "['once upon a time',\n",
       " ' there were two friends',\n",
       " 'they are ulm living in a small village near the river',\n",
       " 'one day as they were walking on the road they saw a big dark cloud in the sky',\n",
       " 'oh no']"
      ]
     },
     "execution_count": 25,
     "metadata": {},
     "output_type": "execute_result"
    }
   ],
   "source": [
    "punctuation_free_sentences[:5]"
   ]
  },
  {
   "cell_type": "code",
   "execution_count": 18,
   "metadata": {},
   "outputs": [],
   "source": [
    "# step five stop words removal \n",
    "\n",
    "from sklearn.feature_extraction.text import ENGLISH_STOP_WORDS"
   ]
  },
  {
   "cell_type": "code",
   "execution_count": 19,
   "metadata": {},
   "outputs": [],
   "source": [
    "stop_words = list(ENGLISH_STOP_WORDS)"
   ]
  },
  {
   "cell_type": "code",
   "execution_count": 30,
   "metadata": {},
   "outputs": [],
   "source": [
    "filter_sentences = [\" \".join([word for word in sentence.split() if word not in stop_words]) for sentence in punctuation_free_sentences]"
   ]
  },
  {
   "cell_type": "code",
   "execution_count": 33,
   "metadata": {},
   "outputs": [
    {
     "data": {
      "text/plain": [
       "['time',\n",
       " 'friends',\n",
       " 'ulm living small village near river',\n",
       " 'day walking road saw big dark cloud sky',\n",
       " 'oh']"
      ]
     },
     "execution_count": 33,
     "metadata": {},
     "output_type": "execute_result"
    }
   ],
   "source": [
    "filter_sentences[:5]"
   ]
  },
  {
   "cell_type": "code",
   "execution_count": 34,
   "metadata": {},
   "outputs": [],
   "source": [
    "# step six lemmatization\n",
    "\n",
    "import spacy"
   ]
  },
  {
   "cell_type": "code",
   "execution_count": 35,
   "metadata": {},
   "outputs": [],
   "source": [
    "nlp = spacy.load('en_core_web_sm')"
   ]
  },
  {
   "cell_type": "code",
   "execution_count": 45,
   "metadata": {},
   "outputs": [],
   "source": [
    "lemmatized_sentences = [\" \".join([token.lemma_ for token in nlp(sentence)]) for sentence in filter_sentences]"
   ]
  },
  {
   "cell_type": "code",
   "execution_count": 46,
   "metadata": {},
   "outputs": [],
   "source": [
    "# step six stemming \n",
    "\n",
    "from nltk.stem import PorterStemmer"
   ]
  },
  {
   "cell_type": "code",
   "execution_count": 47,
   "metadata": {},
   "outputs": [],
   "source": [
    "stemmer = PorterStemmer()"
   ]
  },
  {
   "cell_type": "code",
   "execution_count": 53,
   "metadata": {},
   "outputs": [],
   "source": [
    "stemming_sentences = [\" \".join([stemmer.stem(word) for word in sentence.split()]) for sentence in filter_sentences]"
   ]
  },
  {
   "cell_type": "code",
   "execution_count": 54,
   "metadata": {},
   "outputs": [
    {
     "data": {
      "text/plain": [
       "['time',\n",
       " 'friend',\n",
       " 'ulm live small villag near river',\n",
       " 'day walk road saw big dark cloud sky',\n",
       " 'oh']"
      ]
     },
     "execution_count": 54,
     "metadata": {},
     "output_type": "execute_result"
    }
   ],
   "source": [
    "stemming_sentences[:5]"
   ]
  },
  {
   "cell_type": "code",
   "execution_count": 55,
   "metadata": {},
   "outputs": [],
   "source": [
    "# step seven text normalization \n",
    "\n",
    "import contractions \n",
    "import re \n",
    "from unidecode import unidecode"
   ]
  },
  {
   "cell_type": "code",
   "execution_count": 56,
   "metadata": {},
   "outputs": [],
   "source": [
    "def normalize_text(text):\n",
    "    text = contractions.fix(text)\n",
    "    text = re.sub('r\\s+', ' ', text).strip()\n",
    "    text = unidecode(text)\n",
    "    return text"
   ]
  },
  {
   "cell_type": "code",
   "execution_count": 57,
   "metadata": {},
   "outputs": [],
   "source": [
    "normalized_sentences  = [normalize_text(sentence) for sentence in lemmatized_sentences]"
   ]
  },
  {
   "cell_type": "code",
   "execution_count": 58,
   "metadata": {},
   "outputs": [
    {
     "data": {
      "text/plain": [
       "['time',\n",
       " 'friend',\n",
       " 'ulm live small village nea river',\n",
       " 'day walk road see big dark cloud sky',\n",
       " 'oh']"
      ]
     },
     "execution_count": 58,
     "metadata": {},
     "output_type": "execute_result"
    }
   ],
   "source": [
    "normalized_sentences[:5]"
   ]
  },
  {
   "cell_type": "code",
   "execution_count": 60,
   "metadata": {},
   "outputs": [
    {
     "name": "stdout",
     "output_type": "stream",
     "text": [
      "time friend ulm live small village nea river day walk road see big dark cloud sky oh think go rain heavily say friend reply do not worry brow just cloud let walk suddenly strong wind start blow tree begin shake leave fly friend rush shelte nea old abandon hut  tell friend exclaim minutes rain pou heavily sit hut wait\n"
     ]
    }
   ],
   "source": [
    "print(\" \".join(normalized_sentences))"
   ]
  },
  {
   "cell_type": "code",
   "execution_count": null,
   "metadata": {},
   "outputs": [],
   "source": []
  }
 ],
 "metadata": {
  "kernelspec": {
   "display_name": "AIenv",
   "language": "python",
   "name": "python3"
  },
  "language_info": {
   "codemirror_mode": {
    "name": "ipython",
    "version": 3
   },
   "file_extension": ".py",
   "mimetype": "text/x-python",
   "name": "python",
   "nbconvert_exporter": "python",
   "pygments_lexer": "ipython3",
   "version": "3.10.16"
  }
 },
 "nbformat": 4,
 "nbformat_minor": 2
}
