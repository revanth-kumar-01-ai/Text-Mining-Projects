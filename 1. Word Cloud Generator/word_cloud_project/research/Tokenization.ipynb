{
 "cells": [
  {
   "cell_type": "code",
   "execution_count": null,
   "metadata": {},
   "outputs": [],
   "source": [
    "import joblib\n",
    "from nltk.tokenize import word_tokenize"
   ]
  },
  {
   "cell_type": "code",
   "execution_count": 2,
   "metadata": {},
   "outputs": [],
   "source": [
    "textData = joblib.load('../artifacts/cleanData.txt')"
   ]
  },
  {
   "cell_type": "code",
   "execution_count": 3,
   "metadata": {},
   "outputs": [
    {
     "data": {
      "text/plain": [
       "['marias life reduce wait phone husband know lastivan 31yearold ukrainian fighte pilot begin defend sky hou russias fullscale invasion february 2022 fly 200 perilous mission old sovietera fig29 airplanethe squadron commande lose comrade war',\n",
       " 'close friend',\n",
       " 'godfathe child',\n",
       " 'location current ai base western ukraine reveal security reasonsbut usled effort negotiate ceasefire gathe pace fresh talk russia ukraine plan monday thing change',\n",
       " 'ceasefire come feel safe say mariaacross ukraine people openly talk wa fatigue']"
      ]
     },
     "execution_count": 3,
     "metadata": {},
     "output_type": "execute_result"
    }
   ],
   "source": [
    "textData[:5]"
   ]
  },
  {
   "cell_type": "markdown",
   "metadata": {},
   "source": [
    "**Join all the sentences**"
   ]
  },
  {
   "cell_type": "code",
   "execution_count": 7,
   "metadata": {},
   "outputs": [],
   "source": [
    "joined_text = \" \".join(textData)"
   ]
  },
  {
   "cell_type": "code",
   "execution_count": 8,
   "metadata": {},
   "outputs": [
    {
     "data": {
      "text/plain": [
       "'marias life reduce wait phone husband know lastivan 31yearold ukrainian fighte pilot begin defend sky hou russias fullscale invasion february 2022 fly 200 perilous mission old sovietera fig29 airplanethe squadron commande lose comrade war close friend godfathe child location current ai base western ukraine reveal security reasonsbut usled effort negotiate ceasefire gathe pace fresh talk russia ukraine plan monday thing change ceasefire come feel safe say mariaacross ukraine people openly talk wa fatigue they re call end brutal fight europe world wa firm guarantee western protection ensure russia attack againat time maria fea deal involve accept loss ukrainian region southeast partially seize russia crimea annex russia 2014 lose territory 29yearold say stay russian occupation ask do man hero sacrifice life ukraine fight force make concession maria ivan meet prospect fullscale wa ukraine impossiblemaria english teache local children club western ukraine attend daughte ivan comrade comrade offe set ivan maria describe nice teacherat ivan feel pressure arrangement eventually agree comehe glad do soon start see otheron date ivan warn maria dangerous job say would not problem ivan courageous dare protective maria fall lovehe soon longterm employment fa home lose touch yea like relationship overbut return giant bouquet flowe promise do not want waste time yea marry soon expect childit russia launch fullscale invasion maria understand he d mean harsh reality workthei daughte yaroslavl month old time ivan miss early milestone help step see tooth come comfort illness ivan deploy fa away home send thousand daughte photo help feel virtually spend day say mariaon nearby mission maria daughte pray rush checkpoint run catch minutesshe bring homemade food talk minute worth month they d spend waitingbefore yaroslavl speak use tiny hand gesture dad fly sky daughte know dad pilot say birthday fathe eat birthday cake video explain defend ukraine russian family professional photo take month hard say completely honest know final meeting maria say brink tearsshe feel ready include worstcase scenariodure yea wa regularly hea casualty friend wife word say fea day situation ukrainian seek concrete guarantee protection europe increase supply western fighte jet dete russian aggressionthe country receive numbe usmade fwa french manage fighte jet country ai force largely relief old sovietera warplane - hardly match advanced russian aircraftmaria cautiously hope ceasefire freeze conflict well say find difficult rely do not trust russiavladimi want end western military aid iv intelligenceshare ukrainian halt immobilisation ukrainemany expert say demand simply pretext continue wa launch spite heavy russian casualtiesthere fea donald tramp - publicly state end wa priority - prepare behindthescene deal russia force ukraine accept painful concessionseven ceasefire maria wait call rare meeting ukrainian ai force stay alert long timeand peace ukraine wonde husband peace maria say ivan deeply affect fighting line patriotic soul continue serve warmaria feel important feel casualty vain remain hopeful russianheld part person zaporizhzhia donets luhansk day returnedthe priority maria reassure husband offe optimism dream future young family finally start rebuild life home country husband needs know wait copyright 2025 because right reserve because responsible content external site read approach external linking'"
      ]
     },
     "execution_count": 8,
     "metadata": {},
     "output_type": "execute_result"
    }
   ],
   "source": [
    "joined_text"
   ]
  },
  {
   "cell_type": "markdown",
   "metadata": {},
   "source": [
    "# word tokenize "
   ]
  },
  {
   "cell_type": "code",
   "execution_count": null,
   "metadata": {},
   "outputs": [],
   "source": [
    "tokenize = word_tokenize(joined_text)"
   ]
  },
  {
   "cell_type": "code",
   "execution_count": 11,
   "metadata": {},
   "outputs": [
    {
     "data": {
      "text/plain": [
       "['marias', 'life', 'reduce', 'wait', 'phone']"
      ]
     },
     "execution_count": 11,
     "metadata": {},
     "output_type": "execute_result"
    }
   ],
   "source": [
    "tokenize[:5]"
   ]
  },
  {
   "cell_type": "code",
   "execution_count": 12,
   "metadata": {},
   "outputs": [
    {
     "data": {
      "text/plain": [
       "['../artifacts/tokenize']"
      ]
     },
     "execution_count": 12,
     "metadata": {},
     "output_type": "execute_result"
    }
   ],
   "source": [
    "# save the tokenize\n",
    "\n",
    "joblib.dump(tokenize, '../artifacts/tokenize')"
   ]
  },
  {
   "cell_type": "code",
   "execution_count": null,
   "metadata": {},
   "outputs": [],
   "source": []
  }
 ],
 "metadata": {
  "kernelspec": {
   "display_name": "AIenv",
   "language": "python",
   "name": "python3"
  },
  "language_info": {
   "codemirror_mode": {
    "name": "ipython",
    "version": 3
   },
   "file_extension": ".py",
   "mimetype": "text/x-python",
   "name": "python",
   "nbconvert_exporter": "python",
   "pygments_lexer": "ipython3",
   "version": "3.10.16"
  }
 },
 "nbformat": 4,
 "nbformat_minor": 2
}
