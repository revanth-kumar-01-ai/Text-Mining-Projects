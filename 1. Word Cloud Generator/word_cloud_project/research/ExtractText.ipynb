{
 "cells": [
  {
   "cell_type": "code",
   "execution_count": null,
   "metadata": {},
   "outputs": [],
   "source": [
    "# import the require libraries \n",
    "\n",
    "from bs4 import BeautifulSoup\n",
    "\n",
    "import requests\n",
    "\n",
    "import joblib"
   ]
  },
  {
   "cell_type": "code",
   "execution_count": null,
   "metadata": {},
   "outputs": [],
   "source": [
    "# Get the url from the BBC article \n",
    "\n",
    "url = \"https://www.bbc.com/news/articles/c70wgq7y11qo\""
   ]
  },
  {
   "cell_type": "code",
   "execution_count": 4,
   "metadata": {},
   "outputs": [
    {
     "data": {
      "text/plain": [
       "<Response [200]>"
      ]
     },
     "execution_count": 4,
     "metadata": {},
     "output_type": "execute_result"
    }
   ],
   "source": [
    "# check the url is active or not \n",
    "\n",
    "requests.get(url)"
   ]
  },
  {
   "cell_type": "code",
   "execution_count": 5,
   "metadata": {},
   "outputs": [],
   "source": [
    "page = requests.get(url = url)"
   ]
  },
  {
   "cell_type": "code",
   "execution_count": null,
   "metadata": {},
   "outputs": [],
   "source": [
    "# extract the html content \n",
    "\n",
    "soup = BeautifulSoup(page.text, 'html')"
   ]
  },
  {
   "cell_type": "code",
   "execution_count": null,
   "metadata": {},
   "outputs": [],
   "source": [
    "# In the html extract all the p tag + class (';fezwLZ')\n",
    "\n",
    "paragraphs = soup.find_all(\"p\", class_ = \"fezwLZ\")"
   ]
  },
  {
   "cell_type": "code",
   "execution_count": null,
   "metadata": {},
   "outputs": [],
   "source": [
    "# make them join the text\n",
    "\n",
    "news = \"\"\n",
    "\n",
    "for p in paragraphs:\n",
    "    news = news + p.getText()"
   ]
  },
  {
   "cell_type": "code",
   "execution_count": 17,
   "metadata": {},
   "outputs": [
    {
     "data": {
      "text/plain": [
       "'Maria\\'s life has been reduced to waiting for the next phone call from her husband - never knowing if it might be the last.Ivan, a 31-year-old Ukrainian fighter pilot, began defending the skies from the very first hours of Russia\\'s full-scale invasion in February 2022, and has now flown more than 200 perilous missions in his old Soviet-era Mig-29 warplane.The squadron commander has lost several comrades in the war. Some were close friends. Others were godfathers to each other\\'s children. The location of his current air base in western Ukraine cannot be revealed for security reasons.But as US-led efforts to negotiate a ceasefire gather pace - and fresh talks with Russia and Ukraine planned on Monday - things have changed.\"If any ceasefire comes [about], we will feel safer,\" says Maria.Across Ukraine, more and more people are openly talking about war fatigue. They\\'re calling for an end to the most brutal fighting in Europe since World War Two, and for firm guarantees of Western protection to ensure Russia can\\'t attack again.At the same time, Maria fears that any deal could involve accepting the loss of four Ukrainian regions in the south-east partially seized by Russia, as well as Crimea, annexed by Russia in 2014. \"Nobody will give us back our lost territories\", the 29-year-old says. \"They will stay under Russian occupation.\"She asks: \"What [did] so many men, our heroes, sacrifice their lives for if Ukraine can\\'t fight for them, and is forced to make concessions?\"When Maria and Ivan met, the prospect of a full-scale war in Ukraine seemed impossible.Maria was an English teacher at a local children\\'s club in western Ukraine attended by the daughter of one of Ivan\\'s comrades. The comrade offered to set Ivan up with Maria, who he described as \"a very nice teacher\".At first Ivan felt pressured by the arrangement - but he eventually agreed to come.He was glad he did. They soon started seeing each other.On one of their first dates, Ivan warned Maria he had a dangerous job. She said it wouldn\\'t be a problem. Ivan was courageous, caring and protective, and Maria was falling in love.He soon had to go on a long-term deployment far from home. They lost touch for a year, and it seemed like their relationship might be over.But then he returned with a giant bouquet of flowers and promised her he didn\\'t want to waste her time. Within a year, the two were married and they were soon expecting their first child.It was only once Russia launched its full-scale invasion that Maria understood what he\\'d meant about the harsh realities of his work.Their daughter Yaroslava was only three months old at the time. Ivan missed her early milestones: helping her take her first steps, seeing her first teeth come through and comforting her during her first illness.\"When Ivan is deployed far away from home, I send him thousands of our daughter\\'s photos to help him feel that at least virtually he is spending the day with us,\" says Maria.On one nearby mission, Maria put her daughter in a pram and rushed to a checkpoint where he could run out to catch them for five minutes.She brought him home-made food. They talked. And found that every minute together was worth the months they\\'d spent waiting.Before Yaroslava could even speak, she would use her tiny hands to gesture that her dad was flying through the skies.\"Our daughter knows that her dad is a pilot,\" she says. \"When she had a birthday and her father ate a birthday cake over a video call, we explained to her that he couldn\\'t be with us as he was defending Ukraine from the Russians.\"The family now have a professional photo taken of them every six months. \"It\\'s very hard for me to say but I have to be completely honest. We never know if it [will be] our final call or meeting,\" Maria says, on the brink of tears.She feels she has to be ready for \"everything, including the worst-case scenario\".During the first year of the war, she would regularly hear about casualties among friends. \"You call their wives and can\\'t find the words to say. And you fear that one day, you may find yourself in the same situation.\"Ukrainians are seeking concrete guarantees of protection by the US and Europe, and an increased supply of Western fighter jets, to deter Russian aggression.The country has received a number of US-made F-16s and French Mirage fighter jets, but the country\\'s air force still largely relies on old Soviet-era warplanes – hardly a match for more advanced Russian aircraft.Maria is cautiously hoping for a ceasefire. It might \"freeze\" the conflict at best, she says, but finds it difficult to rely on as she doesn\\'t trust Russia.Vladimir Putin wants an end to Western military aid to Kyiv and intelligence-sharing with the Ukrainians, as well as a halt to mobilisation in Ukraine.Many experts say that his demands are simply a pretext to continue the war he launched, in spite of heavy Russian casualties.There are also fears that Donald Trump – who has publicly stated that ending the war is one of his top priorities – could be preparing a behind-the-scenes deal with Russia which would force Ukraine to accept painful concessions.Even after a ceasefire, Maria will still be waiting for calls and rare meetings, as the Ukrainian air force will have to stay alert for a long time.And while there may be peace in Ukraine, she wonders if her husband will ever be at peace again. Maria says Ivan, who has been deeply affected by the fighting on the front line, has a \"patriotic soul\" and will continue serving even after the war.Maria feels it is important for him to not feel the casualties were in vain, and remains hopeful that the Russian-held parts of Kherson, Zaporizhzhia, Donetsk and Luhansk will one day be returned.The priority for Maria now is to reassure her husband and offer him optimism.  She dreams of a future where her young family can finally start to rebuild their life in a home of their own, in their own country. \"My husband needs to know that we are always waiting for him.\"Copyright 2025 BBC. All rights reserved.\\xa0\\xa0The BBC is not responsible for the content of external sites.\\xa0Read about our approach to external linking.\\xa0'"
      ]
     },
     "execution_count": 17,
     "metadata": {},
     "output_type": "execute_result"
    }
   ],
   "source": [
    "news"
   ]
  },
  {
   "cell_type": "code",
   "execution_count": 21,
   "metadata": {},
   "outputs": [
    {
     "data": {
      "text/plain": [
       "['../artifacts/data.txt']"
      ]
     },
     "execution_count": 21,
     "metadata": {},
     "output_type": "execute_result"
    }
   ],
   "source": [
    "joblib.dump(news, '../artifacts/data.txt')"
   ]
  },
  {
   "cell_type": "code",
   "execution_count": null,
   "metadata": {},
   "outputs": [],
   "source": []
  }
 ],
 "metadata": {
  "kernelspec": {
   "display_name": "AIenv",
   "language": "python",
   "name": "python3"
  },
  "language_info": {
   "codemirror_mode": {
    "name": "ipython",
    "version": 3
   },
   "file_extension": ".py",
   "mimetype": "text/x-python",
   "name": "python",
   "nbconvert_exporter": "python",
   "pygments_lexer": "ipython3",
   "version": "3.10.16"
  }
 },
 "nbformat": 4,
 "nbformat_minor": 2
}
