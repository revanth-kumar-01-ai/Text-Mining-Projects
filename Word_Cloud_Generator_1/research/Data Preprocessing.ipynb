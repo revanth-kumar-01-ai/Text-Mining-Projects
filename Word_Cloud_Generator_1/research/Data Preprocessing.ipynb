{
 "cells": [
  {
   "cell_type": "code",
   "execution_count": null,
   "metadata": {},
   "outputs": [],
   "source": [
    "# import necessary libraries \n",
    "\n",
    "import string\n",
    "import re\n",
    "\n",
    "\n",
    "import joblib\n",
    "import spacy\n",
    "import contractions\n",
    "from unidecode import unidecode\n",
    "from textblob import TextBlob\n",
    "from nltk.tokenize import sent_tokenize\n",
    "from sklearn.feature_extraction.text import ENGLISH_STOP_WORDS\n"
   ]
  },
  {
   "cell_type": "code",
   "execution_count": 2,
   "metadata": {},
   "outputs": [],
   "source": [
    "# load the text data\n",
    "\n",
    "textData = joblib.load('../artifacts/data.txt')"
   ]
  },
  {
   "cell_type": "code",
   "execution_count": 3,
   "metadata": {},
   "outputs": [
    {
     "data": {
      "text/plain": [
       "\"Maria's life has been reduced to waiting for the next phone call from her husband - never knowing if\""
      ]
     },
     "execution_count": 3,
     "metadata": {},
     "output_type": "execute_result"
    }
   ],
   "source": [
    "textData[:100] # show first 100 characters"
   ]
  },
  {
   "cell_type": "markdown",
   "metadata": {},
   "source": [
    "# step one sentence Boundary Detection "
   ]
  },
  {
   "cell_type": "code",
   "execution_count": 4,
   "metadata": {},
   "outputs": [],
   "source": [
    "\n",
    "sentences = sent_tokenize(textData)"
   ]
  },
  {
   "cell_type": "code",
   "execution_count": 5,
   "metadata": {},
   "outputs": [
    {
     "data": {
      "text/plain": [
       "[\"Maria's life has been reduced to waiting for the next phone call from her husband - never knowing if it might be the last.Ivan, a 31-year-old Ukrainian fighter pilot, began defending the skies from the very first hours of Russia's full-scale invasion in February 2022, and has now flown more than 200 perilous missions in his old Soviet-era Mig-29 warplane.The squadron commander has lost several comrades in the war.\",\n",
       " 'Some were close friends.',\n",
       " \"Others were godfathers to each other's children.\",\n",
       " 'The location of his current air base in western Ukraine cannot be revealed for security reasons.But as US-led efforts to negotiate a ceasefire gather pace - and fresh talks with Russia and Ukraine planned on Monday - things have changed.',\n",
       " '\"If any ceasefire comes [about], we will feel safer,\" says Maria.Across Ukraine, more and more people are openly talking about war fatigue.']"
      ]
     },
     "execution_count": 5,
     "metadata": {},
     "output_type": "execute_result"
    }
   ],
   "source": [
    "sentences[:5]"
   ]
  },
  {
   "cell_type": "markdown",
   "metadata": {},
   "source": [
    "# step two Lower case conversion "
   ]
  },
  {
   "cell_type": "code",
   "execution_count": 6,
   "metadata": {},
   "outputs": [],
   "source": [
    "lower_sentences = [sentence.lower() for sentence in sentences]"
   ]
  },
  {
   "cell_type": "code",
   "execution_count": 7,
   "metadata": {},
   "outputs": [
    {
     "data": {
      "text/plain": [
       "[\"maria's life has been reduced to waiting for the next phone call from her husband - never knowing if it might be the last.ivan, a 31-year-old ukrainian fighter pilot, began defending the skies from the very first hours of russia's full-scale invasion in february 2022, and has now flown more than 200 perilous missions in his old soviet-era mig-29 warplane.the squadron commander has lost several comrades in the war.\",\n",
       " 'some were close friends.',\n",
       " \"others were godfathers to each other's children.\",\n",
       " 'the location of his current air base in western ukraine cannot be revealed for security reasons.but as us-led efforts to negotiate a ceasefire gather pace - and fresh talks with russia and ukraine planned on monday - things have changed.',\n",
       " '\"if any ceasefire comes [about], we will feel safer,\" says maria.across ukraine, more and more people are openly talking about war fatigue.']"
      ]
     },
     "execution_count": 7,
     "metadata": {},
     "output_type": "execute_result"
    }
   ],
   "source": [
    "lower_sentences[:5]"
   ]
  },
  {
   "cell_type": "markdown",
   "metadata": {},
   "source": [
    "# step three spelling correction "
   ]
  },
  {
   "cell_type": "code",
   "execution_count": 10,
   "metadata": {},
   "outputs": [],
   "source": [
    "correct_sentences = [str(TextBlob(sentence).correct()) for sentence in lower_sentences]"
   ]
  },
  {
   "cell_type": "code",
   "execution_count": 11,
   "metadata": {},
   "outputs": [
    {
     "data": {
      "text/plain": [
       "[\"maria's life has been reduced to waiting for the next phone call from her husband - never knowing if it might be the last.ivan, a 31-year-old ukrainian fighter pilot, began defending the skies from the very first hours of russia's full-scale invasion in february 2022, and has now flown more than 200 perilous missions in his old soviet-era fig-29 airplane.the squadron commander has lost several comrades in the war.\",\n",
       " 'some were close friends.',\n",
       " \"others were godfather to each other's children.\",\n",
       " 'the location of his current air base in western ukraine cannot be revealed for security reasons.but as us-led efforts to negotiate a ceasefire gather pace - and fresh talks with russia and ukraine planned on monday - things have changed.',\n",
       " '\"if any ceasefire comes [about], we will feel safer,\" says maria.across ukraine, more and more people are openly talking about war fatigue.']"
      ]
     },
     "execution_count": 11,
     "metadata": {},
     "output_type": "execute_result"
    }
   ],
   "source": [
    "correct_sentences[:5]"
   ]
  },
  {
   "cell_type": "markdown",
   "metadata": {},
   "source": [
    "# step four Punctuation removal "
   ]
  },
  {
   "cell_type": "code",
   "execution_count": 14,
   "metadata": {},
   "outputs": [],
   "source": [
    "punctuation_free_sentences = [sentence.translate(str.maketrans('', '', string.punctuation)) for sentence in correct_sentences]"
   ]
  },
  {
   "cell_type": "code",
   "execution_count": 16,
   "metadata": {},
   "outputs": [
    {
     "data": {
      "text/plain": [
       "['marias life has been reduced to waiting for the next phone call from her husband  never knowing if it might be the lastivan a 31yearold ukrainian fighter pilot began defending the skies from the very first hours of russias fullscale invasion in february 2022 and has now flown more than 200 perilous missions in his old sovietera fig29 airplanethe squadron commander has lost several comrades in the war',\n",
       " 'some were close friends',\n",
       " 'others were godfather to each others children',\n",
       " 'the location of his current air base in western ukraine cannot be revealed for security reasonsbut as usled efforts to negotiate a ceasefire gather pace  and fresh talks with russia and ukraine planned on monday  things have changed',\n",
       " 'if any ceasefire comes about we will feel safer says mariaacross ukraine more and more people are openly talking about war fatigue']"
      ]
     },
     "execution_count": 16,
     "metadata": {},
     "output_type": "execute_result"
    }
   ],
   "source": [
    "punctuation_free_sentences[:5]"
   ]
  },
  {
   "cell_type": "markdown",
   "metadata": {},
   "source": [
    "# Step five Stop Words Removal"
   ]
  },
  {
   "cell_type": "code",
   "execution_count": 18,
   "metadata": {},
   "outputs": [],
   "source": [
    "stop_words = list(ENGLISH_STOP_WORDS)"
   ]
  },
  {
   "cell_type": "code",
   "execution_count": 19,
   "metadata": {},
   "outputs": [],
   "source": [
    "filter_sentences = [\" \".join([word for word in sentence.split() if word not in stop_words]) for sentence in punctuation_free_sentences]"
   ]
  },
  {
   "cell_type": "code",
   "execution_count": 21,
   "metadata": {},
   "outputs": [
    {
     "data": {
      "text/plain": [
       "['marias life reduced waiting phone husband knowing lastivan 31yearold ukrainian fighter pilot began defending skies hours russias fullscale invasion february 2022 flown 200 perilous missions old sovietera fig29 airplanethe squadron commander lost comrades war',\n",
       " 'close friends',\n",
       " 'godfather children',\n",
       " 'location current air base western ukraine revealed security reasonsbut usled efforts negotiate ceasefire gather pace fresh talks russia ukraine planned monday things changed',\n",
       " 'ceasefire comes feel safer says mariaacross ukraine people openly talking war fatigue']"
      ]
     },
     "execution_count": 21,
     "metadata": {},
     "output_type": "execute_result"
    }
   ],
   "source": [
    "filter_sentences[:5]"
   ]
  },
  {
   "cell_type": "markdown",
   "metadata": {},
   "source": [
    "# Step six Lemmatization"
   ]
  },
  {
   "cell_type": "code",
   "execution_count": 27,
   "metadata": {},
   "outputs": [],
   "source": [
    "nlp = spacy.load('en_core_web_sm')"
   ]
  },
  {
   "cell_type": "code",
   "execution_count": 28,
   "metadata": {},
   "outputs": [],
   "source": [
    "lemmatized_sentences = [\" \".join([token.lemma_ for token in nlp(sentence)]) for sentence in filter_sentences]"
   ]
  },
  {
   "cell_type": "markdown",
   "metadata": {},
   "source": [
    "#  Step 7: Text Normalization"
   ]
  },
  {
   "cell_type": "code",
   "execution_count": 33,
   "metadata": {},
   "outputs": [],
   "source": [
    "def normalize_text(text):\n",
    "    text = contractions.fix(text)\n",
    "    text = re.sub('r\\s+', ' ', text).strip()\n",
    "    text = unidecode(text)\n",
    "    return text"
   ]
  },
  {
   "cell_type": "code",
   "execution_count": 34,
   "metadata": {},
   "outputs": [],
   "source": [
    "normalized_sentences  = [normalize_text(sentence) for sentence in lemmatized_sentences]"
   ]
  },
  {
   "cell_type": "code",
   "execution_count": 35,
   "metadata": {},
   "outputs": [
    {
     "data": {
      "text/plain": [
       "['marias life reduce wait phone husband know lastivan 31yearold ukrainian fighte pilot begin defend sky hou russias fullscale invasion february 2022 fly 200 perilous mission old sovietera fig29 airplanethe squadron commande lose comrade war',\n",
       " 'close friend',\n",
       " 'godfathe child',\n",
       " 'location current ai base western ukraine reveal security reasonsbut usled effort negotiate ceasefire gathe pace fresh talk russia ukraine plan monday thing change',\n",
       " 'ceasefire come feel safe say mariaacross ukraine people openly talk wa fatigue']"
      ]
     },
     "execution_count": 35,
     "metadata": {},
     "output_type": "execute_result"
    }
   ],
   "source": [
    "normalized_sentences[:5]"
   ]
  },
  {
   "cell_type": "code",
   "execution_count": 36,
   "metadata": {},
   "outputs": [
    {
     "data": {
      "text/plain": [
       "['../artifacts/cleanData.txt']"
      ]
     },
     "execution_count": 36,
     "metadata": {},
     "output_type": "execute_result"
    }
   ],
   "source": [
    "# save the preprocessed data \n",
    "\n",
    "joblib.dump(normalized_sentences, '../artifacts/cleanData.txt')"
   ]
  },
  {
   "cell_type": "code",
   "execution_count": null,
   "metadata": {},
   "outputs": [],
   "source": []
  }
 ],
 "metadata": {
  "kernelspec": {
   "display_name": "AIenv",
   "language": "python",
   "name": "python3"
  },
  "language_info": {
   "codemirror_mode": {
    "name": "ipython",
    "version": 3
   },
   "file_extension": ".py",
   "mimetype": "text/x-python",
   "name": "python",
   "nbconvert_exporter": "python",
   "pygments_lexer": "ipython3",
   "version": "3.10.16"
  }
 },
 "nbformat": 4,
 "nbformat_minor": 2
}
